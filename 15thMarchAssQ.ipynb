{
  "metadata": {
    "kernelspec": {
      "name": "python",
      "display_name": "Python (Pyodide)",
      "language": "python"
    },
    "language_info": {
      "codemirror_mode": {
        "name": "python",
        "version": 3
      },
      "file_extension": ".py",
      "mimetype": "text/x-python",
      "name": "python",
      "nbconvert_exporter": "python",
      "pygments_lexer": "ipython3",
      "version": "3.8"
    },
    "widgets": {
      "application/vnd.jupyter.widget-state+json": {
        "version_major": 2,
        "version_minor": 0,
        "state": {}
      }
    }
  },
  "nbformat_minor": 4,
  "nbformat": 4,
  "cells": [
    {
      "cell_type": "code",
      "source": "Q1: Explain the following with an example:F\nC) Artificial IntelligencJ\n<) Machine Learnin,\nI) Deep Learning\n\nQ2: What is supervised learning? List some examples of supervised learning.\n\nQ3:  What is unsupervised learning? List some examples of unsupervised learning.\n\nQ4: What is the difference between AI, ML, DL, and DS?\n\nQ5: What are the main differences between supervised, unsupervised, and semi-supervised learning?\n\nQ6: What is train, test and validation split? Explain the importance of each term.\n\nQ7: How can unsupervised learning be used in anomaly detection?\n\nQ8: List down some commonly used supervised learning algorithms and unsupervised learning algorithms",
      "metadata": {
        "trusted": true
      },
      "outputs": [],
      "execution_count": null
    },
    {
      "cell_type": "code",
      "source": "Certainly! Let's dive into each question step by step:\n\nQ1: \n- Artificial Intelligence (AI) refers to the simulation of human intelligence in machines that can perform tasks requiring human-like cognitive abilities. This includes areas like natural language processing, computer vision, and robotics. An example of AI is a virtual assistant like Amazon's Alexa or Apple's Siri, which uses AI algorithms to understand and respond to user commands.\n\n- Machine Learning (ML) is a subset of AI that involves training algorithms to learn from data and make predictions or decisions without being explicitly programmed. For example, a spam email filter is an ML model that learns from labeled data (spam vs. non-spam) to classify incoming emails.\n\n- Deep Learning (DL) is a subfield of ML that uses neural networks with many layers (deep architectures) to learn intricate patterns from large amounts of data. Image recognition in self-driving cars or voice recognition in smart speakers are applications of deep learning.\n\nQ2: Supervised learning is a type of machine learning where the model is trained on labeled data, meaning the input data is paired with corresponding output labels. Examples of supervised learning include:\n- Image classification (e.g., identifying cats vs. dogs in images).\n- Spam email detection.\n- Predicting housing prices based on features like location, size, etc.\n- Medical diagnosis based on patient symptoms and test results.\n\nQ3: Unsupervised learning is a type of machine learning where the model is trained on unlabeled data, and it learns patterns or structures from the data without explicit guidance. Examples of unsupervised learning include:\n- Clustering similar documents or articles.\n- Customer segmentation in marketing based on behavior patterns.\n- Anomaly detection in data to identify outliers or unusual patterns.\n- Dimensionality reduction techniques like Principal Component Analysis (PCA).\n\nQ4: The differences between AI, ML, DL, and DS are:\n- AI is a broader concept that encompasses the simulation of human intelligence in machines.\n- ML is a subset of AI that focuses on training algorithms to learn from data.\n- DL is a subset of ML that uses deep neural networks for learning complex patterns.\n- DS (Data Science) is an interdisciplinary field that involves extracting insights from data using various techniques, including AI, ML, and statistical methods.\n\nQ5: The main differences between supervised, unsupervised, and semi-supervised learning are:\n- Supervised learning uses labeled data, unsupervised learning uses unlabeled data, and semi-supervised learning uses a combination of labeled and unlabeled data.\n- Supervised learning aims to predict output labels, unsupervised learning focuses on finding patterns or structures in data, and semi-supervised learning combines prediction tasks with pattern discovery.\n\nQ6: The train-test-validation split refers to dividing a dataset into three subsets:\n- Train set: Used to train the model.\n- Validation set: Used to tune hyperparameters and evaluate model performance during training.\n- Test set: Used to assess the model's final performance and generalization to unseen data.\n\nThe importance of each term:\n- Train set: Essential for model learning and parameter estimation.\n- Validation set: Crucial for hyperparameter tuning and preventing overfitting.\n- Test set: Critical for unbiased evaluation of the final model's performance on unseen data.\n\nQ7: Unsupervised learning can be used in anomaly detection by:\n- Detecting outliers or anomalies in data without using labeled examples.\n- Using clustering algorithms to identify unusual patterns or data points.\n- Employing dimensionality reduction techniques to highlight abnormal data points in reduced feature spaces.\n\nQ8: Some commonly used supervised learning algorithms are:\n- Linear Regression\n- Logistic Regression\n- Support Vector Machines (SVM)\n- Decision Trees\n- Random Forests\n- Gradient Boosting Machines (GBM)\n- Neural Networks (Deep Learning models)\n\nSome commonly used unsupervised learning algorithms are:\n- K-Means Clustering\n- Hierarchical Clustering\n- DBSCAN (Density-Based Spatial Clustering of Applications with Noise)\n- Principal Component Analysis (PCA)\n- t-Distributed Stochastic Neighbor Embedding (t-SNE)\n- Autoencoders (for dimensionality reduction and anomaly detection)",
      "metadata": {
        "trusted": true
      },
      "outputs": [],
      "execution_count": null
    }
  ]
}
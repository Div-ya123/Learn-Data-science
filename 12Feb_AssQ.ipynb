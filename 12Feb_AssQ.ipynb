{
  "metadata": {
    "kernelspec": {
      "name": "python",
      "display_name": "Python (Pyodide)",
      "language": "python"
    },
    "language_info": {
      "codemirror_mode": {
        "name": "python",
        "version": 3
      },
      "file_extension": ".py",
      "mimetype": "text/x-python",
      "name": "python",
      "nbconvert_exporter": "python",
      "pygments_lexer": "ipython3",
      "version": "3.8"
    },
    "widgets": {
      "application/vnd.jupyter.widget-state+json": {
        "version_major": 2,
        "version_minor": 0,
        "state": {}
      }
    }
  },
  "nbformat_minor": 4,
  "nbformat": 4,
  "cells": [
    {
      "cell_type": "code",
      "source": "Q1. What is an Exception in python? Write the difference between Exceptions and sytnax errors.",
      "metadata": {
        "trusted": true
      },
      "outputs": [],
      "execution_count": null
    },
    {
      "cell_type": "code",
      "source": "Q1. Solution \n\nIn Python, an **Exception** is an event that occurs during the execution of a program that disrupts the normal flow of the program's instructions. Exceptions are typically errors that occur due to unexpected conditions or incorrect operations, such as attempting to divide by zero, accessing a non-existent file, or referencing an out-of-bound index in a list.\n\n### Difference Between Exceptions and Syntax Errors\n\n#### Exceptions:\n- **Definition**: Exceptions are errors that occur during the execution of a program. They can be caught and handled by the program using `try` and `except` blocks.\n- **Detection**: Exceptions are detected during runtime. The interpreter raises an exception when it encounters an error while the program is running.\n- **Handling**: You can handle exceptions using `try`, `except`, `else`, and `finally` blocks to gracefully manage errors and take appropriate actions.\n- **Examples**:\n  - `ZeroDivisionError`: Raised when division by zero is attempted.\n  - `FileNotFoundError`: Raised when trying to open a non-existent file.\n  - `IndexError`: Raised when an index is out of bounds for a list.\n\n**Example**:\n```python\ntry:\n    result = 10 / 0\nexcept ZeroDivisionError:\n    print(\"Cannot divide by zero!\")\n```\n\n#### Syntax Errors:\n- **Definition**: Syntax errors are errors in the syntax of the code. They occur when the Python parser encounters code that does not conform to the rules of the Python language.\n- **Detection**: Syntax errors are detected at compile time (parsing time) before the program is executed. The interpreter cannot proceed with execution until the syntax error is corrected.\n- **Handling**: Syntax errors must be corrected by the programmer before the code can be successfully executed. They cannot be caught or handled during program execution because the code will not run if there are syntax errors.\n- **Examples**:\n  - Missing colons (`:`) at the end of a statement that requires them, such as `if`, `for`, or `while`.\n  - Incorrect indentation.\n  - Misspelled keywords or identifiers.\n\n**Example**:\n```python\n# This code will raise a syntax error\nif True\n    print(\"This will raise a syntax error due to missing colon\")\n```\n\n### Summary\n\n- **Exceptions**:\n  - Occur during program execution.\n  - Can be caught and handled.\n  - Examples: `ZeroDivisionError`, `FileNotFoundError`, `IndexError`.\n\n- **Syntax Errors**:\n  - Occur during code parsing before execution.\n  - Must be fixed by the programmer before execution.\n  - Examples: Missing colons, incorrect indentation, misspelled keywords.\n\nHandling exceptions allows your program to continue running or fail gracefully when unexpected conditions occur, whereas syntax errors need to be resolved for the program to be successfully interpreted and executed.",
      "metadata": {
        "trusted": true
      },
      "outputs": [],
      "execution_count": null
    },
    {
      "cell_type": "code",
      "source": "Q2. What happens when an exception is not handled? Explain with an example",
      "metadata": {
        "trusted": true
      },
      "outputs": [],
      "execution_count": null
    },
    {
      "cell_type": "code",
      "source": "Q2. Solution\n\nWhen an exception is not handled in a Python program, the program will terminate immediately, and an error message (traceback) will be displayed. This traceback provides information about the exception, including the type of exception, a description of the error, and the line number where the exception occurred.\n\n### Example of Unhandled Exception\n\nConsider the following example where a division by zero occurs, but the exception is not handled:\n\n```python\ndef divide(a, b):\n    return a / b\n\nresult = divide(10, 0)\nprint(result)\n```\n\n### Explanation\n\nIn the above code:\n1. The `divide` function attempts to divide `a` by `b`.\n2. The `divide` function is called with arguments `10` and `0`.\n3. Since dividing by zero is not allowed, a `ZeroDivisionError` is raised.\n4. There is no exception handling (`try` and `except` block) in place to catch the `ZeroDivisionError`.\n\n### Output and Traceback\n\nWhen this code is executed, the output will include a traceback that looks something like this:\n\n```plaintext\nTraceback (most recent call last):\n  File \"example.py\", line 5, in <module>\n    result = divide(10, 0)\n  File \"example.py\", line 2, in divide\n    return a / b\nZeroDivisionError: division by zero\n```\n\n### Breakdown of the Traceback\n\n- **Traceback (most recent call last)**: Indicates the start of the traceback and the most recent function calls.\n- **File \"example.py\", line 5, in <module>**: Shows that the error occurred at line 5 in the script `example.py`, which is in the main module.\n- **result = divide(10, 0)**: Indicates the line of code that caused the error.\n- **File \"example.py\", line 2, in divide**: Shows that the error occurred at line 2 in the `divide` function.\n- **return a / b**: Indicates the exact line inside the `divide` function where the error occurred.\n- **ZeroDivisionError: division by zero**: Specifies the type of exception (`ZeroDivisionError`) and provides a brief description of the error (\"division by zero\").\n\n### Consequences of Unhandled Exceptions\n\n1. **Program Termination**: The program stops execution at the point where the exception occurred. No further code is executed after the exception.\n2. **Loss of Data**: If the program was performing critical operations, such as writing to a file or database, any unsaved data might be lost.\n3. **Poor User Experience**: Users may see a confusing error message and may not understand why the program stopped working.\n4. **Security Risks**: Unhandled exceptions can expose sensitive information through the traceback, which might be useful for attackers.\n\n### Example of Handling the Exception\n\nTo handle the exception and avoid program termination, you can use a `try` and `except` block:\n\n```python\ndef divide(a, b):\n    try:\n        return a / b\n    except ZeroDivisionError:\n        print(\"Error: Cannot divide by zero.\")\n        return None\n\nresult = divide(10, 0)\nprint(result)\n```\n\n### Output with Handling\n\n```plaintext\nError: Cannot divide by zero.\nNone\n```\n\nIn this handled example:\n- The `try` block contains the code that might raise an exception.\n- The `except` block catches the `ZeroDivisionError` and prints an error message instead of terminating the program.\n- The function returns `None` when an error occurs, allowing the program to continue running.",
      "metadata": {
        "trusted": true
      },
      "outputs": [],
      "execution_count": null
    },
    {
      "cell_type": "code",
      "source": "Q3. Which Python statementsare used to catchand handle exceptions? Explain with an example",
      "metadata": {
        "trusted": true
      },
      "outputs": [],
      "execution_count": null
    },
    {
      "cell_type": "code",
      "source": "Q3. Solution : \n\nIn Python, exceptions are caught and handled using the `try`, `except`, `else`, and `finally` statements. These statements work together to manage exceptions in a structured and flexible manner.\n\n### `try` and `except` Statements\n\n- **`try` Block**: The code that might raise an exception is placed inside the `try` block.\n- **`except` Block**: The code that handles the exception is placed inside one or more `except` blocks. You can specify the type of exception to handle, or use a general `except` block to catch any exception.\n\n### `else` and `finally` Statements\n\n- **`else` Block**: This block contains code that will run if no exceptions are raised in the `try` block.\n- **`finally` Block**: This block contains code that will run no matter what, whether an exception was raised or not. It is typically used for cleanup actions, such as closing files or releasing resources.\n\n### Example of Exception Handling\n\nHere's an example that demonstrates how to use these statements:\n\n```python\ndef divide(a, b):\n    try:\n        result = a / b\n    except ZeroDivisionError:\n        print(\"Error: Cannot divide by zero.\")\n        return None\n    except TypeError:\n        print(\"Error: Unsupported operand type(s). Please provide numbers.\")\n        return None\n    else:\n        print(\"Division successful.\")\n        return result\n    finally:\n        print(\"Execution of the division operation is complete.\")\n\n# Test cases\nprint(divide(10, 2))  # Should print \"Division successful.\" and return 5.0\nprint(divide(10, 0))  # Should print \"Error: Cannot divide by zero.\" and return None\nprint(divide(10, 'a'))  # Should print \"Error: Unsupported operand type(s).\" and return None\n```\n\n### Explanation\n\n1. **`try` Block**:\n   - Contains the code that might raise exceptions (`result = a / b`).\n\n2. **`except` Blocks**:\n   - **`except ZeroDivisionError:`**: Catches and handles division by zero errors. Prints an error message and returns `None`.\n   - **`except TypeError:`**: Catches and handles type errors (e.g., when operands are not numbers). Prints an error message and returns `None`.\n\n3. **`else` Block**:\n   - Executes if the `try` block does not raise any exceptions. Prints a success message and returns the result of the division.\n\n4. **`finally` Block**:\n   - Executes regardless of whether an exception was raised or not. Prints a completion message. This is useful for cleanup tasks that need to be performed no matter what.\n\n### Output\n\n```plaintext\nDivision successful.\nExecution of the division operation is complete.\n5.0\nError: Cannot divide by zero.\nExecution of the division operation is complete.\nNone\nError: Unsupported operand type(s). Please provide numbers.\nExecution of the division operation is complete.\nNone\n```\n\n### Summary\n\n- The `try` block contains code that may raise an exception.\n- The `except` blocks handle specific exceptions that may arise.\n- The `else` block runs if no exceptions are raised in the `try` block.\n- The `finally` block always runs, whether an exception occurred or not, and is often used for cleanup operations.\n\nThis structured approach allows for robust error handling in Python programs, ensuring that exceptions are managed gracefully and resources are properly cleaned up.",
      "metadata": {
        "trusted": true
      },
      "outputs": [],
      "execution_count": null
    },
    {
      "cell_type": "code",
      "source": "Q4. Explain with an example:#\n\na try and else\nb finally\nc raise",
      "metadata": {
        "trusted": true
      },
      "outputs": [],
      "execution_count": null
    },
    {
      "cell_type": "code",
      "source": "Q4. Solution :\n\n### a. `try` and `else`\n\nThe `try` block lets you test a block of code for errors. The `else` block lets you execute code if no errors were raised in the `try` block.\n\n**Example**:\n\n```python\ndef divide(a, b):\n    try:\n        result = a / b\n    except ZeroDivisionError:\n        print(\"Error: Cannot divide by zero.\")\n        return None\n    else:\n        print(\"Division successful.\")\n        return result\n\n# Test case\nprint(divide(10, 2))  # Should print \"Division successful.\" and return 5.0\nprint(divide(10, 0))  # Should print \"Error: Cannot divide by zero.\" and return None\n```\n\n### Explanation\n\n- The `try` block contains the division operation, which may raise a `ZeroDivisionError`.\n- The `except` block catches the `ZeroDivisionError` and handles it by printing an error message and returning `None`.\n- The `else` block executes only if no exceptions were raised in the `try` block. It prints a success message and returns the result of the division.\n\n### b. `finally`\n\nThe `finally` block is used to execute code that should run no matter what, whether an exception was raised or not. It is typically used for cleanup actions, such as closing files or releasing resources.\n\n**Example**:\n\n```python\ndef divide(a, b):\n    try:\n        result = a / b\n    except ZeroDivisionError:\n        print(\"Error: Cannot divide by zero.\")\n        return None\n    else:\n        print(\"Division successful.\")\n        return result\n    finally:\n        print(\"Execution of the division operation is complete.\")\n\n# Test case\nprint(divide(10, 2))  # Should print success messages and return 5.0\nprint(divide(10, 0))  # Should print error message and completion message, then return None\n```\n\n### Explanation\n\n- The `finally` block executes after the `try`, `except`, and `else` blocks, regardless of whether an exception was raised.\n- It prints a message indicating that the execution of the division operation is complete.\n\n### c. `raise`\n\nThe `raise` statement allows you to manually trigger an exception in your code. You can specify the type of exception to raise and optionally provide additional information about the error.\n\n**Example**:\n\n```python\ndef check_positive(number):\n    if number < 0:\n        raise ValueError(\"The number must be positive.\")\n    else:\n        print(f\"The number {number} is positive.\")\n\n# Test cases\ntry:\n    check_positive(10)  # Should print a success message\n    check_positive(-5)  # Should raise a ValueError\nexcept ValueError as e:\n    print(f\"Error: {e}\")\n```\n\n### Explanation\n\n- The `raise` statement is used to trigger a `ValueError` if the `number` is negative.\n- In the `try` block, `check_positive(10)` executes successfully, but `check_positive(-5)` raises a `ValueError`.\n- The `except` block catches the `ValueError` and prints an error message.\n\n### Summary\n\n- **`try` and `else`**: The `try` block tests for errors, while the `else` block executes if no errors were raised.\n- **`finally`**: This block executes no matter what, useful for cleanup operations.\n- **`raise`**: Manually triggers an exception, allowing you to specify the type of error and additional information.",
      "metadata": {
        "trusted": true
      },
      "outputs": [],
      "execution_count": null
    },
    {
      "cell_type": "code",
      "source": "Q5. What are Custom Exceptions in python? Why do we need Custom Exceptions? Explain with an example",
      "metadata": {
        "trusted": true
      },
      "outputs": [],
      "execution_count": null
    },
    {
      "cell_type": "code",
      "source": "Q5. Solution \n\nCustom exceptions in Python are user-defined exception classes that extend the functionality of built-in exceptions. They allow developers to create their own specific types of exceptions tailored to their application's needs. Custom exceptions inherit from Python's `Exception` class or one of its subclasses, such as `ValueError` or `TypeError`.\n\n### Why do we need Custom Exceptions?\n\n1. **Granular Error Handling**: Custom exceptions help in handling different types of errors in a more granular and specific way. This can improve the readability and maintainability of the code.\n2. **Domain-specific Errors**: In complex applications, custom exceptions can represent domain-specific errors that are meaningful to developers and users.\n3. **Clearer Code Structure**: Using custom exceptions can lead to a clearer and more organized code structure, especially when dealing with multiple types of errors.\n\n### Example of Custom Exception\n\n```python\nclass CustomError(Exception):\n    \"\"\"Custom exception class.\"\"\"\n    def __init__(self, message):\n        super().__init__(message)\n        self.message = message\n\ndef validate_input(value):\n    if not isinstance(value, int):\n        raise CustomError(\"Invalid input type. Integer expected.\")\n\n# Test case\ntry:\n    validate_input('abc')\nexcept CustomError as e:\n    print(f\"Custom Error: {e.message}\")\n```\n\n### Explanation\n\n- We define a custom exception class `CustomError` that inherits from the base `Exception` class.\n- The `__init__` method initializes the exception with a custom error message.\n- The `validate_input` function checks if the input is an integer. If not, it raises a `CustomError`.\n- In the test case, we call `validate_input('abc')`, which raises our custom exception.\n- The `except` block catches the `CustomError` and prints the custom error message.\n\n### Benefits of Custom Exceptions\n\n1. **Clarity**: Custom exceptions provide clear and descriptive error messages, aiding in debugging and understanding code.\n2. **Specificity**: They allow us to handle specific types of errors differently, improving error handling logic.\n3. **Modularity**: Custom exceptions promote modular code by separating error handling concerns from the main application logic.\n4. **Extensibility**: Developers can easily extend and add new custom exceptions as the application evolves.\n\nUsing custom exceptions is a good practice, especially in larger projects or libraries where different types of errors may occur. They contribute to creating more robust and maintainable codebases.",
      "metadata": {
        "trusted": true
      },
      "outputs": [],
      "execution_count": null
    },
    {
      "cell_type": "code",
      "source": "Q6. Create custom exception class. Use this class to handle an exception.",
      "metadata": {
        "trusted": true
      },
      "outputs": [],
      "execution_count": null
    },
    {
      "cell_type": "code",
      "source": "Q6. Solution : \n\nCertainly! Here's an example of creating a custom exception class and using it to handle an exception:\n\n```python\nclass CustomError(Exception):\n    \"\"\"Custom exception class.\"\"\"\n    def __init__(self, message):\n        super().__init__(message)\n        self.message = message\n\ndef divide(a, b):\n    try:\n        if b == 0:\n            raise CustomError(\"Division by zero is not allowed.\")\n        else:\n            return a / b\n    except CustomError as e:\n        print(f\"Custom Error: {e.message}\")\n        return None\n\n# Test cases\nprint(divide(10, 2))  # Should return 5.0\nprint(divide(10, 0))  # Should print the custom error message and return None\n```\n\nIn this example:\n\n- We define a custom exception class `CustomError` that inherits from the base `Exception` class.\n- The `__init__` method initializes the exception with a custom error message.\n- The `divide` function checks if the divisor `b` is zero. If it is, it raises a `CustomError`.\n- In the test cases, we call `divide(10, 2)` (valid division) and `divide(10, 0)` (division by zero).\n- The `except` block catches the `CustomError` and prints the custom error message.\n\nWhen you run this code, it should output:\n\n```\n5.0\nCustom Error: Division by zero is not allowed.\nNone\n```\n\nThis demonstrates how a custom exception class (`CustomError`) is used to handle a specific type of error (`Division by zero`) in a Python program. Custom exceptions help improve error handling by providing clear and meaningful error messages tailored to the application's requirements.",
      "metadata": {
        "trusted": true
      },
      "outputs": [],
      "execution_count": null
    }
  ]
}
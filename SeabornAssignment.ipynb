{
  "metadata": {
    "kernelspec": {
      "name": "python",
      "display_name": "Python (Pyodide)",
      "language": "python"
    },
    "language_info": {
      "codemirror_mode": {
        "name": "python",
        "version": 3
      },
      "file_extension": ".py",
      "mimetype": "text/x-python",
      "name": "python",
      "nbconvert_exporter": "python",
      "pygments_lexer": "ipython3",
      "version": "3.8"
    },
    "widgets": {
      "application/vnd.jupyter.widget-state+json": {
        "version_major": 2,
        "version_minor": 0,
        "state": {}
      }
    }
  },
  "nbformat_minor": 4,
  "nbformat": 4,
  "cells": [
    {
      "cell_type": "code",
      "source": "Que 1: Name any five plots that we can plot using the Seaborn library. Also, state the uses of each plot.\nQue 2: Load the \"fmri\" dataset using the load_dataset function of seaborn. Plot a line plot using x =\n\"timepoint\" and y = \"signal\" for different events and regions.\nNote: timepoint, signal, event, and region are columns in the fmri dataset.\n\nQue 3: Load the \"titanic\" dataset using the load_dataset function of seaborn. Plot two box plots using x =\n'pclass', y = 'age' and y = 'fare'.\nNote: pclass, age, and fare are columns in the titanic dataset.\n\nQue 4: Use the \"diamonds\" dataset from seaborn to plot a histogram for the 'price' column. Use the hue\nparameter for the 'cut' column of the diamonds dataset.\n\nQue 5: Use the \"iris\" dataset from seaborn to plot a pair plot. Use the hue parameter for the \"species\" column\nof the iris dataset.\n\nQue 6: Use the \"flights\" dataset from seaborn to plot a heatmap.",
      "metadata": {
        "trusted": true
      },
      "outputs": [],
      "execution_count": null
    },
    {
      "cell_type": "code",
      "source": "Solution:\n\nQ1: Five plots that can be plotted using the Seaborn library are:\n1. Scatter Plot: Used to visualize the relationship between two variables.\n2. Line Plot: Used to show the trend or change over time of a variable.\n3. Bar Plot: Used to compare categories or show categorical data.\n4. Box Plot: Used to show the distribution of a dataset and identify outliers.\n5. Heatmap: Used to visualize data in a matrix format, often used for correlation matrices or categorical data.\n\nQ2: Here's how you can load the \"fmri\" dataset and plot a line plot using Seaborn:\n```python\nimport seaborn as sns\nimport matplotlib.pyplot as plt\n\n# Load the \"fmri\" dataset\nfmri_data = sns.load_dataset('fmri')\n\n# Plot line plot for different events and regions\nsns.lineplot(x='timepoint', y='signal', hue='event', style='region', data=fmri_data)\nplt.title('FMRI Signal Over Time')\nplt.xlabel('Timepoint')\nplt.ylabel('Signal')\nplt.legend(title='Event')\nplt.show()\n```\n\nQ3: Here's how you can load the \"titanic\" dataset and plot two box plots using Seaborn:\n```python\nimport seaborn as sns\nimport matplotlib.pyplot as plt\n\n# Load the \"titanic\" dataset\ntitanic_data = sns.load_dataset('titanic')\n\n# Plot box plots for 'pclass' vs 'age' and 'fare'\nplt.figure(figsize=(10, 6))\nplt.subplot(1, 2, 1)\nsns.boxplot(x='pclass', y='age', data=titanic_data)\nplt.title('Age vs Pclass')\n\nplt.subplot(1, 2, 2)\nsns.boxplot(x='pclass', y='fare', data=titanic_data)\nplt.title('Fare vs Pclass')\n\nplt.tight_layout()\nplt.show()\n```\n\nQ4: Here's how you can use the \"diamonds\" dataset to plot a histogram with hue for the 'cut' column:\n```python\nimport seaborn as sns\nimport matplotlib.pyplot as plt\n\n# Load the \"diamonds\" dataset\ndiamonds_data = sns.load_dataset('diamonds')\n\n# Plot histogram for 'price' with hue for 'cut'\nsns.histplot(data=diamonds_data, x='price', hue='cut', multiple='stack')\nplt.title('Price Distribution by Cut')\nplt.xlabel('Price')\nplt.ylabel('Count')\nplt.legend(title='Cut')\nplt.show()\n```\n\nQ5: Here's how you can use the \"iris\" dataset to plot a pair plot with hue for the \"species\" column:\n```python\nimport seaborn as sns\nimport matplotlib.pyplot as plt\n\n# Load the \"iris\" dataset\niris_data = sns.load_dataset('iris')\n\n# Plot pair plot with hue for 'species'\nsns.pairplot(data=iris_data, hue='species')\nplt.title('Pair Plot of Iris Dataset')\nplt.show()\n```\n\nQ6: Here's how you can use the \"flights\" dataset to plot a heatmap:\n```python\nimport seaborn as sns\nimport matplotlib.pyplot as plt\n\n# Load the \"flights\" dataset\nflights_data = sns.load_dataset('flights')\n\n# Pivot the data for heatmap\nflights_pivot = flights_data.pivot_table(index='month', columns='year', values='passengers')\n\n# Plot heatmap\nsns.heatmap(data=flights_pivot, cmap='coolwarm', linecolor='white', linewidth=1)\nplt.title('Flights Heatmap')\nplt.xlabel('Year')\nplt.ylabel('Month')\nplt.show()\n```",
      "metadata": {
        "trusted": true
      },
      "outputs": [],
      "execution_count": null
    }
  ]
}
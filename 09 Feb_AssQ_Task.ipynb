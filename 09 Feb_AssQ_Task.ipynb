{
  "metadata": {
    "kernelspec": {
      "name": "python",
      "display_name": "Python (Pyodide)",
      "language": "python"
    },
    "language_info": {
      "codemirror_mode": {
        "name": "python",
        "version": 3
      },
      "file_extension": ".py",
      "mimetype": "text/x-python",
      "name": "python",
      "nbconvert_exporter": "python",
      "pygments_lexer": "ipython3",
      "version": "3.8"
    },
    "widgets": {
      "application/vnd.jupyter.widget-state+json": {
        "version_major": 2,
        "version_minor": 0,
        "state": {}
      }
    }
  },
  "nbformat_minor": 4,
  "nbformat": 4,
  "cells": [
    {
      "cell_type": "code",
      "source": "Q1. Create a vehicle class with an init method having instance variables as name_of_vehicle, max_speed\nand average_of_vehicle.",
      "metadata": {
        "trusted": true
      },
      "outputs": [],
      "execution_count": null
    },
    {
      "cell_type": "code",
      "source": "Q1. Solution\n\nTo create a `Vehicle` class with an `__init__` method that initializes the instance variables `name_of_vehicle`, `max_speed`, and `average_of_vehicle`, we can define the class as follows:\n\n```python\nclass Vehicle:\n    def __init__(self, name_of_vehicle, max_speed, average_of_vehicle):\n        self.name_of_vehicle = name_of_vehicle\n        self.max_speed = max_speed\n        self.average_of_vehicle = average_of_vehicle\n\n# Example usage\nvehicle1 = Vehicle(\"Car\", 200, 15)\nvehicle2 = Vehicle(\"Bike\", 150, 40)\n\nprint(f\"Vehicle 1: {vehicle1.name_of_vehicle}, Max Speed: {vehicle1.max_speed}, Average: {vehicle1.average_of_vehicle}\")\nprint(f\"Vehicle 2: {vehicle2.name_of_vehicle}, Max Speed: {vehicle2.max_speed}, Average: {vehicle2.average_of_vehicle}\")\n",
      "metadata": {
        "trusted": true
      },
      "outputs": [],
      "execution_count": null
    },
    {
      "cell_type": "code",
      "source": "Q2. Create a child class car from the vehicle class created in Que 1, which will inherit the vehicle class. Create a method named seating_capacity which takes capacity as an argument and returns the name of\nthe vehicle and its seating capacity.",
      "metadata": {
        "trusted": true
      },
      "outputs": [],
      "execution_count": null
    },
    {
      "cell_type": "code",
      "source": "To create a child class `Car` that inherits from the `Vehicle` class and adds a `seating_capacity` method, you can define the class as follows:\n\n```python\nclass Vehicle:\n    def __init__(self, name_of_vehicle, max_speed, average_of_vehicle):\n        self.name_of_vehicle = name_of_vehicle\n        self.max_speed = max_speed\n        self.average_of_vehicle = average_of_vehicle\n\nclass Car(Vehicle):\n    def seating_capacity(self, capacity):\n        return f\"The seating capacity of {self.name_of_vehicle} is {capacity}.\"\n\n# Example usage\ncar1 = Car(\"Sedan\", 220, 18)\nprint(car1.seating_capacity(5))  # Output: The seating capacity of Sedan is 5\n\ncar2 = Car(\"SUV\", 200, 12)\nprint(car2.seating_capacity(7))  # Output: The seating capacity of SUV is 7\n```\n\n### Explanation\n\n1. **Vehicle Class**: The `Vehicle` class remains the same as defined earlier with its `__init__` method.\n2. **Car Class**: The `Car` class inherits from the `Vehicle` class using the syntax `class Car(Vehicle)`.\n3. **seating_capacity Method**: The `Car` class defines a method `seating_capacity` which takes `capacity` as an argument and returns a formatted string containing the `name_of_vehicle` and the seating capacity.\n4. **Example Usage**: Instances of the `Car` class are created with specific values for `name_of_vehicle`, `max_speed`, and `average_of_vehicle`. The `seating_capacity` method is called on these instances to demonstrate its functionality.\n\nThis approach allows the `Car` class to inherit attributes and methods from the `Vehicle` class while adding its own specific behavior with the `seating_capacity` method.",
      "metadata": {
        "trusted": true
      },
      "outputs": [],
      "execution_count": null
    },
    {
      "cell_type": "code",
      "source": "Q3. What is multiple inheritance? Write a python code to demonstrate multiple inheritance.",
      "metadata": {
        "trusted": true
      },
      "outputs": [],
      "execution_count": null
    },
    {
      "cell_type": "code",
      "source": "Q3. Solution : \n\n### What is Multiple Inheritance?\n\nMultiple inheritance is a feature in object-oriented programming where a class can inherit attributes and methods from more than one parent class. This allows a child class to combine and extend the functionalities of multiple base classes.\n\n### Demonstration of Multiple Inheritance in Python\n\nHere's an example to demonstrate multiple inheritance:\n\n```python\nclass Engine:\n    def __init__(self, engine_type):\n        self.engine_type = engine_type\n\n    def start_engine(self):\n        return f\"{self.engine_type} engine started.\"\n\nclass Body:\n    def __init__(self, body_style):\n        self.body_style = body_style\n\n    def show_body_style(self):\n        return f\"Body style is {self.body_style}.\"\n\nclass Car(Engine, Body):\n    def __init__(self, name, engine_type, body_style):\n        Engine.__init__(self, engine_type)\n        Body.__init__(self, body_style)\n        self.name = name\n\n    def display_car_details(self):\n        return (f\"Car Name: {self.name}\\n\"\n                f\"Engine: {self.engine_type}\\n\"\n                f\"Body Style: {self.body_style}\")\n\n# Example usage\ncar = Car(\"Sedan\", \"V8\", \"Coupe\")\nprint(car.start_engine())         # Output: V8 engine started.\nprint(car.show_body_style())      # Output: Body style is Coupe.\nprint(car.display_car_details())  # Output: Car Name: Sedan\n                                  #         Engine: V8\n                                  #         Body Style: Coupe\n```\n\n### Explanation\n\n1. **Engine Class**: This class has an `__init__` method to initialize the `engine_type` attribute and a method `start_engine` to simulate starting the engine.\n2. **Body Class**: This class has an `__init__` method to initialize the `body_style` attribute and a method `show_body_style` to display the body style.\n3. **Car Class**: This class inherits from both `Engine` and `Body` classes. The `__init__` method of `Car` initializes attributes from both parent classes using `Engine.__init__(self, engine_type)` and `Body.__init__(self, body_style)`, as well as its own `name` attribute. It also has a method `display_car_details` to display the car details.\n4. **Example Usage**: An instance of `Car` is created with specific values for `name`, `engine_type`, and `body_style`. The methods `start_engine`, `show_body_style`, and `display_car_details` are called to demonstrate the functionality of multiple inheritance.\n\nThis example shows how the `Car` class can inherit and utilize attributes and methods from both the `Engine` and `Body` classes, combining their functionalities effectively.\n",
      "metadata": {
        "trusted": true
      },
      "outputs": [],
      "execution_count": null
    },
    {
      "cell_type": "code",
      "source": "Q4. What are getter and setter in python? Create a class and create a getter and a setter method in this\nclass.",
      "metadata": {
        "trusted": true
      },
      "outputs": [],
      "execution_count": null
    },
    {
      "cell_type": "code",
      "source": "Q4. Solution:\n\n### What are Getter and Setter Methods in Python?\n\nGetter and setter methods are used to access and modify the values of private or protected attributes in a class. These methods provide a way to control how the attributes are accessed and updated, ensuring encapsulation and data hiding.\n\n- **Getter Method**: A getter method is used to get the value of an attribute.\n- **Setter Method**: A setter method is used to set or update the value of an attribute.\n\n### Example of a Class with Getter and Setter Methods\n\nHere's an example demonstrating how to create a class with getter and setter methods in Python:\n\n```python\nclass Person:\n    def __init__(self, name, age):\n        self._name = name  # Private attribute with single underscore\n        self._age = age    # Private attribute with single underscore\n\n    # Getter method for name\n    @property\n    def name(self):\n        return self._name\n\n    # Setter method for name\n    @name.setter\n    def name(self, new_name):\n        if isinstance(new_name, str):\n            self._name = new_name\n        else:\n            raise ValueError(\"Name must be a string\")\n\n    # Getter method for age\n    @property\n    def age(self):\n        return self._age\n\n    # Setter method for age\n    @age.setter\n    def age(self, new_age):\n        if isinstance(new_age, int) and new_age > 0:\n            self._age = new_age\n        else:\n            raise ValueError(\"Age must be a positive integer\")\n\n# Example usage\nperson = Person(\"Alice\", 30)\n\n# Using getter methods\nprint(person.name)  # Output: Alice\nprint(person.age)   # Output: 30\n\n# Using setter methods\nperson.name = \"Bob\"\nperson.age = 25\n\nprint(person.name)  # Output: Bob\nprint(person.age)   # Output: 25\n\n# Attempting to set invalid values will raise an error\n# person.name = 123   # Raises ValueError: Name must be a string\n# person.age = -5     # Raises ValueError: Age must be a positive integer\n```\n\n### Explanation\n\n1. **Class Definition**: The `Person` class has two private attributes `_name` and `_age`, indicated by the single underscore prefix.\n2. **Getter Methods**:\n    - The `@property` decorator is used to define a getter method for the `name` attribute. The method `name` returns the value of `_name`.\n    - The `@property` decorator is also used for the `age` attribute to return the value of `_age`.\n3. **Setter Methods**:\n    - The `@name.setter` decorator is used to define a setter method for the `name` attribute. The method `name` checks if the new value is a string before setting `_name`.\n    - The `@age.setter` decorator is used for the `age` attribute. The method `age` checks if the new value is a positive integer before setting `_age`.\n4. **Example Usage**:\n    - An instance of `Person` is created with initial values for `name` and `age`.\n    - The getter methods are used to retrieve the values of `name` and `age`.\n    - The setter methods are used to update the values of `name` and `age`.\n    - Attempting to set invalid values (non-string for `name` and non-positive integer for `age`) raises a `ValueError`.\n\nUsing getter and setter methods helps ensure that the attributes are accessed and modified in a controlled manner, maintaining the integrity of the data.",
      "metadata": {
        "trusted": true
      },
      "outputs": [],
      "execution_count": null
    },
    {
      "cell_type": "code",
      "source": "Q5.What is method overriding in python? Write a python code to demonstrate method overriding.",
      "metadata": {
        "trusted": true
      },
      "outputs": [],
      "execution_count": null
    },
    {
      "cell_type": "code",
      "source": "Q5. Solution :\n\n### What is Method Overriding in Python?\n\nMethod overriding is a feature in object-oriented programming that allows a subclass to provide a specific implementation for a method that is already defined in its superclass. When the method is called on an instance of the subclass, the overridden method in the subclass is executed instead of the one in the superclass.\n\n### Demonstration of Method Overriding\n\nHere is a Python code example demonstrating method overriding:\n\n```python\nclass Animal:\n    def make_sound(self):\n        return \"Some generic animal sound\"\n\nclass Dog(Animal):\n    def make_sound(self):\n        return \"Bark\"\n\nclass Cat(Animal):\n    def make_sound(self):\n        return \"Meow\"\n\n# Example usage\ngeneric_animal = Animal()\ndog = Dog()\ncat = Cat()\n\nprint(generic_animal.make_sound())  # Output: Some generic animal sound\nprint(dog.make_sound())             # Output: Bark\nprint(cat.make_sound())             # Output: Meow\n```\n\n### Explanation\n\n1. **Superclass (Animal)**: \n   - The `Animal` class defines a method `make_sound` that returns a generic animal sound.\n2. **Subclass (Dog)**:\n   - The `Dog` class inherits from `Animal` and overrides the `make_sound` method to return \"Bark\".\n3. **Subclass (Cat)**:\n   - The `Cat` class inherits from `Animal` and overrides the `make_sound` method to return \"Meow\".\n4. **Example Usage**:\n   - Instances of `Animal`, `Dog`, and `Cat` are created.\n   - Calling `make_sound` on the `generic_animal` instance invokes the method from the `Animal` class.\n   - Calling `make_sound` on the `dog` instance invokes the overridden method in the `Dog` class.\n   - Calling `make_sound` on the `cat` instance invokes the overridden method in the `Cat` class.\n\nThis example shows how method overriding allows subclasses to provide specific behavior for methods that are defined in their superclass, enhancing the flexibility and extensibility of the code.",
      "metadata": {
        "trusted": true
      },
      "outputs": [],
      "execution_count": null
    }
  ]
}
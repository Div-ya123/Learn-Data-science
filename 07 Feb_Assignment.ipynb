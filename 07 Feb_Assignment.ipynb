{
  "metadata": {
    "kernelspec": {
      "name": "python",
      "display_name": "Python (Pyodide)",
      "language": "python"
    },
    "language_info": {
      "codemirror_mode": {
        "name": "python",
        "version": 3
      },
      "file_extension": ".py",
      "mimetype": "text/x-python",
      "name": "python",
      "nbconvert_exporter": "python",
      "pygments_lexer": "ipython3",
      "version": "3.8"
    },
    "widgets": {
      "application/vnd.jupyter.widget-state+json": {
        "version_major": 2,
        "version_minor": 0,
        "state": {}
      }
    }
  },
  "nbformat_minor": 4,
  "nbformat": 4,
  "cells": [
    {
      "cell_type": "code",
      "source": "Q1. You are writing code for a company. The requirement of the company is that you create a python\nfunction that will check whether the password entered by the user is correct or not. The function should\ntake the password as input and return the string “Valid Password” if the entered password follows the\nbelow-given password guidelines else it should return “Invalid Password”.\nNote: 1. The Password should contain at least two uppercase letters and at least two lowercase letters.\n2. The Password should contain at least a number and three special characters.\n3. The length of the password should be 10 characters long.",
      "metadata": {
        "trusted": true
      },
      "outputs": [],
      "execution_count": null
    },
    {
      "cell_type": "code",
      "source": "Q1. Solution\n\nTo meet the company's requirements for password validation, we need to create a Python function that checks if a given password adheres to specific rules. Here's the function implementation:\n\nimport re\n\ndef check_password(password):\n    # Check the length of the password\n    if len(password) != 10:\n        return \"Invalid Password\"\n    \n    # Define regex patterns for the required checks\n    uppercase_pattern = r'[A-Z]'\n    lowercase_pattern = r'[a-z]'\n    number_pattern = r'\\d'\n    special_character_pattern = r'[!@#$%^&*(),.?\":{}|<>]'\n\n    # Find all matches for each pattern\n    uppercase_matches = re.findall(uppercase_pattern, password)\n    lowercase_matches = re.findall(lowercase_pattern, password)\n    number_matches = re.findall(number_pattern, password)\n    special_character_matches = re.findall(special_character_pattern, password)\n    \n    # Check if the password meets all criteria\n    if (len(uppercase_matches) >= 2 and\n        len(lowercase_matches) >= 2 and\n        len(number_matches) >= 1 and\n        len(special_character_matches) >= 3):\n        return \"Valid Password\"\n    else:\n        return \"Invalid Password\"\n\n# Example usage\npassword = \"Aa1!Aa!@#\"\nprint(check_password(password))  # Output: Valid Password or Invalid Password depending on the password\n```\n\n### Explanation\n\n1. **Length Check**: The function first checks if the password is exactly 10 characters long. If not, it immediately returns \"Invalid Password\".\n2. **Regex Patterns**:\n    - `uppercase_pattern` matches any uppercase letters.\n    - `lowercase_pattern` matches any lowercase letters.\n    - `number_pattern` matches any digits.\n    - `special_character_pattern` matches any special characters listed.\n3. **Finding Matches**:\n    - `re.findall(pattern, password)` finds all occurrences of the pattern in the password and returns them as a list.\n4. **Criteria Check**:\n    - The function checks if there are at least 2 uppercase letters, 2 lowercase letters, 1 number, and 3 special characters.\n5. **Return Result**: If all criteria are met, the function returns \"Valid Password\"; otherwise, it returns \"Invalid Password\".\n\nThis function ensures that the password strictly adheres to the specified guidelines, providing a robust solution for the company's requirement.\n\n",
      "metadata": {
        "trusted": true
      },
      "outputs": [],
      "execution_count": null
    },
    {
      "cell_type": "code",
      "source": "Q2. Solve the below-given questions using at least one of the following:\n1. Lambda functioJ\n2. Filter functioJ\n3. Zap functioJ\n4. List ComprehensioI\nB Check if the string starts with a particular letterY\nB Check if the string is numericY\nB Sort a list of tuples having fruit names and their quantity. [(\"mango\",99),(\"orange\",80), (\"grapes\", 1000)-\nB Find the squares of numbers from 1 to 10Y\nB Find the cube root of numbers from 1 to 10Y\nB Check if a given number is evenY\nB Filter odd numbers from the given list.\n[1,2,3,4,5,6,7,8,9,10-\nB Sort a list of integers into positive and negative integers lists.\n[1,2,3,4,5,6,-1,-2,-3,-4,-5,0]",
      "metadata": {
        "trusted": true
      },
      "outputs": [],
      "execution_count": null
    },
    {
      "cell_type": "code",
      "source": "Q2. Solve the below-given questions using at least one of the following:\n1. Lambda function\n2. Filter function\n3. Zap function\n4. List Comprehension\n* Check if the string starts with a particular letterY\n* Check if the string is numericY\n* Sort a list of tuples having fruit names and their quantity. [(\"mango\",99),(\"orange\",80), (\"grapes\", 1000)-\n* Find the squares of numbers from 1 to 10Y\n* Find the cube root of numbers from 1 to 10Y\n* Check if a given number is evenY\n* Filter odd numbers from the given list.\n[1,2,3,4,5,6,7,8,9,10-\n* Sort a list of integers into positive and negative integers lists.\n[1,2,3,4,5,6,-1,-2,-3,-4,-5,0]",
      "metadata": {
        "trusted": true
      },
      "outputs": [],
      "execution_count": null
    },
    {
      "cell_type": "code",
      "source": "Q2. Solution :\n\n\nLet's solve each of the given questions using at least one of the specified functions or techniques: lambda functions, filter function, map function, or list comprehension.\n\n### 1. Check if the string starts with a particular letter\n\nUsing a lambda function:\n```python\nstarts_with = lambda s, letter: s.startswith(letter)\n# Example usage:\nprint(starts_with(\"apple\", \"a\"))  # Output: True\nprint(starts_with(\"banana\", \"b\"))  # Output: True\nprint(starts_with(\"cherry\", \"a\"))  # Output: False\n```\n\n### 2. Check if the string is numeric\n\nUsing a lambda function:\n```python\nis_numeric = lambda s: s.isnumeric()\n# Example usage:\nprint(is_numeric(\"12345\"))  # Output: True\nprint(is_numeric(\"123a45\"))  # Output: False\n```\n\n### 3. Sort a list of tuples having fruit names and their quantity\n\nUsing the `sorted` function with a lambda function:\n```python\nfruits = [(\"mango\", 99), (\"orange\", 80), (\"grapes\", 1000)]\nsorted_fruits = sorted(fruits, key=lambda x: x[1])\n# Example usage:\nprint(sorted_fruits)  # Output: [('orange', 80), ('mango', 99), ('grapes', 1000)]\n```\n\n### 4. Find the squares of numbers from 1 to 10\n\nUsing list comprehension:\n```python\nsquares = [x**2 for x in range(1, 11)]\n# Example usage:\nprint(squares)  # Output: [1, 4, 9, 16, 25, 36, 49, 64, 81, 100]\n```\n\n### 5. Find the cube root of numbers from 1 to 10\n\nUsing list comprehension and the `**` operator:\n```python\ncube_roots = [x**(1/3) for x in range(1, 11)]\n# Example usage:\nprint(cube_roots)  # Output: [1.0, 1.2599210498948732, 1.4422495703074083, 1.5874010519681994, 1.7099759466766968, 1.8171205928321397, 1.912931182772389, 2.0, 2.080083823051904, 2.154434690031884]\n```\n\n### 6. Check if a given number is even\n\nUsing a lambda function:\n```python\nis_even = lambda x: x % 2 == 0\n# Example usage:\nprint(is_even(4))  # Output: True\nprint(is_even(5))  # Output: False\n```\n\n### 7. Filter odd numbers from the given list\n\nUsing the `filter` function with a lambda function:\n```python\nnumbers = [1, 2, 3, 4, 5, 6, 7, 8, 9, 10]\nodd_numbers = list(filter(lambda x: x % 2 != 0, numbers))\n# Example usage:\nprint(odd_numbers)  # Output: [1, 3, 5, 7, 9]\n```\n\n### 8. Sort a list of integers into positive and negative integers lists\n\nUsing list comprehensions:\n```python\nintegers = [1, 2, 3, 4, 5, 6, -1, -2, -3, -4, -5, 0]\npositive_integers = [x for x in integers if x > 0]\nnegative_integers = [x for x in integers if x < 0]\n# Example usage:\nprint(positive_integers)  # Output: [1, 2, 3, 4, 5, 6]\nprint(negative_integers)  # Output: [-1, -2, -3, -4, -5]\n```\n\nThese solutions use a combination of lambda functions, the filter function, and list comprehensions to address each of the specified tasks effectively.\n",
      "metadata": {
        "trusted": true
      },
      "outputs": [],
      "execution_count": null
    },
    {
      "cell_type": "code",
      "source": "",
      "metadata": {
        "trusted": true
      },
      "outputs": [],
      "execution_count": null
    }
  ]
}
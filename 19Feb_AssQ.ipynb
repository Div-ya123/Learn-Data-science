{
  "metadata": {
    "kernelspec": {
      "name": "python",
      "display_name": "Python (Pyodide)",
      "language": "python"
    },
    "language_info": {
      "codemirror_mode": {
        "name": "python",
        "version": 3
      },
      "file_extension": ".py",
      "mimetype": "text/x-python",
      "name": "python",
      "nbconvert_exporter": "python",
      "pygments_lexer": "ipython3",
      "version": "3.8"
    },
    "widgets": {
      "application/vnd.jupyter.widget-state+json": {
        "version_major": 2,
        "version_minor": 0,
        "state": {}
      }
    }
  },
  "nbformat_minor": 4,
  "nbformat": 4,
  "cells": [
    {
      "cell_type": "code",
      "source": "### Q1. What is Flask Framework? What are the advantages of Flask Framework?\n\n**Flask** is a lightweight and extensible web application framework for Python. It provides tools, libraries, and patterns to build web applications quickly and efficiently. Some advantages of Flask include:\n\n1. **Simplicity:** Flask has a simple and intuitive syntax, making it easy to learn and use.\n2. **Flexibility:** Flask allows developers to choose their own libraries and extensions, giving them flexibility in designing and structuring their applications.\n3. **Extensibility:** Flask is highly extensible, allowing developers to add custom functionalities through extensions and plugins.\n4. **Werkzeug and Jinja2:** Flask is built on top of the Werkzeug WSGI toolkit and the Jinja2 template engine, providing powerful tools for web development.\n\n### Q2. Create a simple Flask application to display ‘Hello World!!’. Attach the screenshot of the output in Jupyter Notebook.\n\n```python\nfrom flask import Flask\n\napp = Flask(__name__)\n\n@app.route('/')\ndef hello_world():\n    return 'Hello World!!'\n\nif __name__ == '__main__':\n    app.run()\n```\n\nFor attaching screenshots in Jupyter Notebook, you can use the following code snippet:\n\n```python\nfrom IPython.display import Image\n\n# Replace 'path_to_image' with the actual path to your screenshot\nImage(filename='path_to_image')\n```\n\n### Q3. What is App routing in Flask? Why do we use app routes?\n\n**App routing** in Flask refers to defining URL routes for different parts of the application. Each route corresponds to a specific URL endpoint and is associated with a Python function that handles the request and generates the response. We use app routes in Flask to define the behavior of the application based on the requested URL.\n\n### Q4. Create a “/welcome” route to display the welcome message “Welcome to ABC Corporation” and a “/” route to show the following details:\nCompany Name: ABC Corporation\nLocation: India\nContact Detail: 999-999-9999\nAttach the screenshot of the output in Jupyter Notebook.\n\n```python\nfrom flask import Flask\n\napp = Flask(__name__)\n\n@app.route('/')\ndef home():\n    return 'Company Name: ABC Corporation<br>Location: India<br>Contact Detail: 999-999-9999'\n\n@app.route('/welcome')\ndef welcome():\n    return 'Welcome to ABC Corporation'\n\nif __name__ == '__main__':\n    app.run()\n```\n\n### Q5. What function is used in Flask for URL Building? Write a Python code to demonstrate the working of the url_for() function.\n\nThe `url_for()` function in Flask is used for URL building. It generates URLs for specific routes defined in the application. Here's an example code demonstrating its usage:\n\n```python\nfrom flask import Flask, url_for\n\napp = Flask(__name__)\n\n@app.route('/')\ndef home():\n    return 'Home Page'\n\n@app.route('/about')\ndef about():\n    return 'About Page'\n\nif __name__ == '__main__':\n    with app.test_request_context():\n        print(url_for('home'))\n        print(url_for('about'))\n```\n\nWhen you run this code, it will print the URLs for the 'home' and 'about' routes defined in the Flask application.",
      "metadata": {
        "trusted": true
      },
      "outputs": [],
      "execution_count": null
    }
  ]
}
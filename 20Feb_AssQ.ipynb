{
  "metadata": {
    "kernelspec": {
      "name": "python",
      "display_name": "Python (Pyodide)",
      "language": "python"
    },
    "language_info": {
      "codemirror_mode": {
        "name": "python",
        "version": 3
      },
      "file_extension": ".py",
      "mimetype": "text/x-python",
      "name": "python",
      "nbconvert_exporter": "python",
      "pygments_lexer": "ipython3",
      "version": "3.8"
    },
    "widgets": {
      "application/vnd.jupyter.widget-state+json": {
        "version_major": 2,
        "version_minor": 0,
        "state": {}
      }
    }
  },
  "nbformat_minor": 4,
  "nbformat": 4,
  "cells": [
    {
      "cell_type": "code",
      "source": "### Q1. Explain GET and POST methods.\n\n- **GET Method:**\n  - Used to request data from a specified resource.\n  - Parameters are passed in the URL.\n  - Typically used for retrieving data, like fetching a webpage.\n  - Generally, GET requests should not have side effects on the server.\n\n- **POST Method:**\n  - Used to send data to a server to create/update a resource.\n  - Parameters are passed in the request body.\n  - Typically used for submitting forms, uploading files, or sending sensitive data.\n  - POST requests can have side effects on the server, like creating a new record in a database.\n\n### Q2. Why is request used in Flask?\n\nThe `request` object in Flask is used to access incoming request data such as form data, JSON data, files, cookies, headers, etc. It allows Flask applications to handle and process data sent by clients (browsers, API clients, etc.) during HTTP requests.\n\n### Q3. Why is redirect() used in Flask?\n\nThe `redirect()` function in Flask is used to redirect the client to a different URL or route. It is commonly used after processing form data or performing certain actions to redirect the user to a new page or route within the application.\n\n### Q4. What are templates in Flask? Why is the render_template() function used?\n\nTemplates in Flask are HTML files with placeholders for dynamic content. They allow developers to separate the presentation (HTML) from the logic (Python code) in their applications. The `render_template()` function in Flask is used to render templates by replacing placeholders with actual data and returning the rendered HTML to the client.\n\n### Q5. Create a simple API. Use Postman to test it. Attach the screenshot of the output in the Jupyter Notebook.\n\nHere's a simple example of creating an API endpoint using Flask:\n\n```python\nfrom flask import Flask, jsonify, request\n\napp = Flask(__name__)\n\n# Sample data\nbooks = [\n    {\"id\": 1, \"title\": \"Python Programming\", \"author\": \"John Doe\"},\n    {\"id\": 2, \"title\": \"Web Development\", \"author\": \"Jane Smith\"}\n]\n\n# GET request to fetch all books\n@app.route('/api/books', methods=['GET'])\ndef get_books():\n    return jsonify(books)\n\n# POST request to add a new book\n@app.route('/api/books', methods=['POST'])\ndef add_book():\n    new_book = request.json\n    books.append(new_book)\n    return jsonify({\"message\": \"Book added successfully\", \"book\": new_book}), 201\n\nif __name__ == '__main__':\n    app.run(debug=True)\n```\n\nAfter running the Flask application, you can use Postman to test the API endpoints (`GET /api/books` and `POST /api/books`). Attach the screenshot of the Postman output in the Jupyter Notebook for verification.",
      "metadata": {
        "trusted": true
      },
      "outputs": [],
      "execution_count": null
    }
  ]
}
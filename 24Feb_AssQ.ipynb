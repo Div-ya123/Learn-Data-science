{
  "metadata": {
    "kernelspec": {
      "name": "python",
      "display_name": "Python (Pyodide)",
      "language": "python"
    },
    "language_info": {
      "codemirror_mode": {
        "name": "python",
        "version": 3
      },
      "file_extension": ".py",
      "mimetype": "text/x-python",
      "name": "python",
      "nbconvert_exporter": "python",
      "pygments_lexer": "ipython3",
      "version": "3.8"
    },
    "widgets": {
      "application/vnd.jupyter.widget-state+json": {
        "version_major": 2,
        "version_minor": 0,
        "state": {}
      }
    }
  },
  "nbformat_minor": 4,
  "nbformat": 4,
  "cells": [
    {
      "cell_type": "code",
      "source": "### Q1. List any five functions of the pandas library with execution.\n\nHere are five commonly used functions in the pandas library along with their execution:\n\n```python\nimport pandas as pd\n\n# Creating a sample DataFrame\ndata = {'A': [1, 2, 3], 'B': [4, 5, 6], 'C': [7, 8, 9]}\ndf = pd.DataFrame(data)\n\n# 1. head() - Returns the first n rows of the DataFrame (default is 5)\nprint(\"head():\")\nprint(df.head())\n\n# 2. describe() - Generates descriptive statistics\nprint(\"\\ndescribe():\")\nprint(df.describe())\n\n# 3. groupby() - Groups data by a column and applies a function\nprint(\"\\ngroupby('A').sum():\")\nprint(df.groupby('A').sum())\n\n# 4. isnull() - Detects missing values\nprint(\"\\nisnull():\")\nprint(df.isnull())\n\n# 5. drop() - Drops specified labels from rows or columns\nprint(\"\\ndrop('B', axis=1):\")\nprint(df.drop('B', axis=1))\n```\n\n### Q2. Re-index the DataFrame with a new index that starts from 1 and increments by 2 for each row.\n\n```python\nimport pandas as pd\n\n# Sample DataFrame\ndata = {'A': [1, 2, 3, 4], 'B': [5, 6, 7, 8], 'C': [9, 10, 11, 12]}\ndf = pd.DataFrame(data)\n\n# Function to re-index the DataFrame\ndef reindex_dataframe(df):\n    new_index = range(1, 2 * len(df) + 1, 2)\n    df.index = new_index\n    return df\n\n# Applying the function\ndf_reindexed = reindex_dataframe(df)\nprint(df_reindexed)\n```\n\n### Q3. Calculate the sum of the first three values in the 'Values' column.\n\n```python\nimport pandas as pd\n\n# Sample DataFrame\ndata = {'Values': [10, 20, 30, 40, 50]}\ndf = pd.DataFrame(data)\n\n# Function to calculate the sum of the first three values\ndef sum_first_three(df):\n    sum_values = df['Values'].iloc[:3].sum()\n    print(f\"Sum of the first three values: {sum_values}\")\n\n# Applying the function\nsum_first_three(df)\n```\n\n### Q4. Create a new column 'Word_Count' that contains the number of words in each row of the 'Text' column.\n\n```python\nimport pandas as pd\n\n# Sample DataFrame\ndata = {'Text': ['This is a test', 'Pandas is great', 'Hello world']}\ndf = pd.DataFrame(data)\n\n# Function to add 'Word_Count' column\ndef add_word_count(df):\n    df['Word_Count'] = df['Text'].apply(lambda x: len(x.split()))\n    return df\n\n# Applying the function\ndf_with_word_count = add_word_count(df)\nprint(df_with_word_count)\n```\n\n### Q5. How are DataFrame.size() and DataFrame.shape() different?\n\n- `DataFrame.size`: Returns the number of elements in the DataFrame, which is equivalent to the number of rows times the number of columns.\n- `DataFrame.shape`: Returns a tuple representing the dimensionality of the DataFrame, i.e., the number of rows and columns.\n\n**Example:**\n\n```python\nimport pandas as pd\n\n# Sample DataFrame\ndata = {'A': [1, 2, 3], 'B': [4, 5, 6]}\ndf = pd.DataFrame(data)\n\nprint(\"size:\", df.size)  # Output: 6 (3 rows * 2 columns)\nprint(\"shape:\", df.shape)  # Output: (3, 2)\n```\n\n### Q6. Which function of pandas do we use to read an excel file?\n\nThe `pd.read_excel()` function is used to read an Excel file.\n\n**Example:**\n\n```python\n# pd.read_excel('file_path.xlsx')\n```\n\n### Q7. Create a new column 'Username' in df that contains only the username part of each email address.\n\n```python\nimport pandas as pd\n\n# Sample DataFrame\ndata = {'Email': ['john.doe@example.com', 'jane.smith@example.com']}\ndf = pd.DataFrame(data)\n\n# Function to extract username from email\ndef extract_username(df):\n    df['Username'] = df['Email'].apply(lambda x: x.split('@')[0])\n    return df\n\n# Applying the function\ndf_with_username = extract_username(df)\nprint(df_with_username)\n```\n\n### Q8. Select all rows where the value in column 'A' is greater than 5 and the value in column 'B' is less than 10.\n\n```python\nimport pandas as pd\n\n# Sample DataFrame\ndata = {'A': [3, 8, 6, 2, 9], 'B': [5, 2, 9, 3, 1], 'C': [1, 7, 4, 5, 2]}\ndf = pd.DataFrame(data)\n\n# Function to select specific rows\ndef select_rows(df):\n    filtered_df = df[(df['A'] > 5) & (df['B'] < 10)]\n    return filtered_df\n\n# Applying the function\nselected_df = select_rows(df)\nprint(selected_df)\n```\n\n### Q9. Calculate the mean, median, and standard deviation of the values in the 'Values' column.\n\n```python\nimport pandas as pd\n\n# Sample DataFrame\ndata = {'Values': [10, 20, 30, 40, 50]}\ndf = pd.DataFrame(data)\n\n# Function to calculate statistics\ndef calculate_statistics(df):\n    mean_value = df['Values'].mean()\n    median_value = df['Values'].median()\n    std_dev_value = df['Values'].std()\n    print(f\"Mean: {mean_value}, Median: {median_value}, Standard Deviation: {std_dev_value}\")\n\n# Applying the function\ncalculate_statistics(df)\n```\n\n### Q10. Create a new column 'MovingAverage' that contains the moving average of the sales for the past 7 days.\n\n```python\nimport pandas as pd\n\n# Sample DataFrame\ndata = {'Sales': [10, 20, 30, 40, 50, 60, 70, 80, 90, 100], \n        'Date': pd.date_range(start='2023-01-01', periods=10, freq='D')}\ndf = pd.DataFrame(data)\n\n# Function to calculate moving average\ndef add_moving_average(df):\n    df['MovingAverage'] = df['Sales'].rolling(window=7).mean()\n    return df\n\n# Applying the function\ndf_with_moving_average = add_moving_average(df)\nprint(df_with_moving_average)\n```\n\n### Q11. Create a new column 'Weekday' in the DataFrame that contains the weekday name corresponding to each date.\n\n```python\nimport pandas as pd\n\n# Sample DataFrame\ndata = {'Date': pd.date_range(start='2023-01-01', periods=5, freq='D')}\ndf = pd.DataFrame(data)\n\n# Function to add 'Weekday' column\ndef add_weekday(df):\n    df['Weekday'] = df['Date'].dt.day_name()\n    return df\n\n# Applying the function\ndf_with_weekday = add_weekday(df)\nprint(df_with_weekday)\n```\n\n### Q12. Select all rows where the date is between '2023-01-01' and '2023-01-31'.\n\n```python\nimport pandas as pd\n\n# Sample DataFrame\ndata = {'Date': pd.date_range(start='2023-01-01', end='2023-02-01', freq='D')}\ndf = pd.DataFrame(data)\n\n# Function to select rows by date range\ndef select_date_range(df):\n    start_date = '2023-01-01'\n    end_date = '2023-01-31'\n    mask = (df['Date'] >= start_date) & (df['Date'] <= end_date)\n    return df.loc[mask]\n\n# Applying the function\nselected_df = select_date_range(df)\nprint(selected_df)\n```\n\n### Q13. To use the basic functions of pandas, what is the first and foremost necessary library that needs to be imported?\n\nThe first and foremost necessary library that needs to be imported is `pandas`.\n\n**Example:**\n\n```python\nimport pandas as pd\n```\n\nThese are the answers to your questions, complete with code examples and explanations.",
      "metadata": {
        "trusted": true
      },
      "outputs": [],
      "execution_count": null
    }
  ]
}
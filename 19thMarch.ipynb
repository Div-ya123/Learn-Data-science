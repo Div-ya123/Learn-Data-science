{
  "metadata": {
    "kernelspec": {
      "name": "python",
      "display_name": "Python (Pyodide)",
      "language": "python"
    },
    "language_info": {
      "codemirror_mode": {
        "name": "python",
        "version": 3
      },
      "file_extension": ".py",
      "mimetype": "text/x-python",
      "name": "python",
      "nbconvert_exporter": "python",
      "pygments_lexer": "ipython3",
      "version": "3.8"
    },
    "widgets": {
      "application/vnd.jupyter.widget-state+json": {
        "version_major": 2,
        "version_minor": 0,
        "state": {}
      }
    }
  },
  "nbformat_minor": 4,
  "nbformat": 4,
  "cells": [
    {
      "cell_type": "code",
      "source": "Q1. What is Min-Max scaling, and how is it used in data preprocessing? Provide an example to illustrate its\napplication.\nQ2. What is the Unit Vector technique in feature scaling, and how does it differ from Min-Max scaling?\nProvide an example to illustrate its application.\nQ3. What is PCA (Principle Component Analysis), and how is it used in dimensionality reduction? Provide an\nexample to illustrate its application.\nQ4. What is the relationship between PCA and Feature Extraction, and how can PCA be used for Feature\nExtraction? Provide an example to illustrate this concept.\nQ5. You are working on a project to build a recommendation system for a food delivery service. The dataset\ncontains features such as price, rating, and delivery time. Explain how you would use Min-Max scaling to\npreprocess the data.\nQ6. You are working on a project to build a model to predict stock prices. The dataset contains many\nfeatures, such as company financial data and market trends. Explain how you would use PCA to reduce the\ndimensionality of the dataset.\nQ7. For a dataset containing the following values: [1, 5, 10, 15, 20], perform Min-Max scaling to transform the\nvalues to a range of -1 to 1.\nQ8. For a dataset containing the following features: [height, weight, age, gender, blood pressure], perform\nFeature Extraction using PCA. How many principal components would you choose to retain, and why?",
      "metadata": {
        "trusted": true
      },
      "outputs": [],
      "execution_count": null
    },
    {
      "cell_type": "code",
      "source": "\n\nQ1: **Min-Max Scaling**\n- **What it is:** Min-Max scaling is a data preprocessing technique used to scale numerical features to a specific range, often between 0 and 1.\n- **How it works:** It transforms the feature values using the formula:\n  \\[ X_{\\text{scaled}} = \\frac{X - X_{\\text{min}}}{X_{\\text{max}} - X_{\\text{min}}} \\]\n  where \\( X \\) is the original feature value, \\( X_{\\text{min}} \\) is the minimum value in the feature, and \\( X_{\\text{max}} \\) is the maximum value in the feature.\n- **Example:**\n  ```python\n  from sklearn.preprocessing import MinMaxScaler\n\n  data = [[1], [5], [10], [15], [20]]\n\n  scaler = MinMaxScaler(feature_range=(-1, 1))\n  scaled_data = scaler.fit_transform(data)\n\n  print(scaled_data)\n  ```\n\nQ2: **Unit Vector Technique**\n- **What it is:** The Unit Vector technique in feature scaling normalizes feature vectors to have unit norm (length 1), focusing on the direction of the vectors rather than their magnitude.\n- **How it differs:** It differs from Min-Max scaling in that it normalizes the vectors based on their direction, ensuring they all have the same length (unit norm).\n- **Example:**\n  ```python\n  from sklearn.preprocessing import Normalizer\n  import numpy as np\n\n  data = np.array([[1, 2], [3, 4]])\n\n  normalizer = Normalizer()\n  unit_vector_data = normalizer.fit_transform(data)\n\n  print(unit_vector_data)\n  ```\n\nQ3: **PCA (Principal Component Analysis)**\n- **What it is:** PCA is a dimensionality reduction technique used to transform high-dimensional data into a lower-dimensional space while preserving the most important information.\n- **How it's used:** PCA identifies orthogonal (uncorrelated) principal components that capture the variance in the data, reducing dimensionality while retaining important features.\n- **Example:**\n  ```python\n  from sklearn.decomposition import PCA\n\n  data = [[1, 2, 3], [4, 5, 6], [7, 8, 9]]\n\n  pca = PCA(n_components=2)\n  transformed_data = pca.fit_transform(data)\n\n  print(transformed_data)\n  ```\n\nQ4: **Relationship between PCA and Feature Extraction**\n- **What it is:** PCA can be used for feature extraction by identifying the most important features (principal components) that explain the variance in the data.\n- **How it's used:** After PCA identifies principal components, these components can serve as new features in a reduced-dimensional space, capturing the essential information from the original features.\n- **Example:**\n  ```python\n  from sklearn.decomposition import PCA\n\n  data = [[1, 2, 3], [4, 5, 6], [7, 8, 9]]\n\n  pca = PCA(n_components=2)\n  transformed_data = pca.fit_transform(data)\n\n  print(transformed_data)\n  ```\n\nQ5: **Min-Max Scaling for a Food Delivery Recommendation System**\n- **How to use:** Apply Min-Max scaling to features like price, rating, and delivery time in the dataset to standardize their ranges for meaningful comparisons and analysis within the recommendation system.\n\nQ6: **PCA for Dimensionality Reduction in Stock Price Prediction**\n- **How to use:** Utilize PCA to reduce the dimensionality of the dataset containing financial data and market trends, identifying principal components that explain the most variance and using them as new features for prediction.\n\nQ7: **Min-Max Scaling Example**\n- **Dataset:** \\([1, 5, 10, 15, 20]\\)\n- **Min-Max Scaling Formula:** \\[ X_{\\text{scaled}} = \\frac{X - X_{\\text{min}}}{X_{\\text{max}} - X_{\\text{min}}} \\]\n- **Scaled Values (Range -1 to 1):** \\([-1, -0.5, 0, 0.5, 1]\\)\n\nQ8: **Feature Extraction using PCA Example**\n- **Dataset Features:** \\([height, weight, age, gender, blood pressure]\\)\n- **Process:** Perform PCA to identify principal components, then choose the number of components based on explained variance (e.g., retain enough components to explain 95% of variance).\n\nThese explanations provide a comprehensive understanding of each concept and how they are applied in real-world scenarios.",
      "metadata": {
        "trusted": true
      },
      "outputs": [],
      "execution_count": null
    }
  ]
}
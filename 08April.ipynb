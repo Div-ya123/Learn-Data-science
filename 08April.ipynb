{
  "metadata": {
    "kernelspec": {
      "name": "python",
      "display_name": "Python (Pyodide)",
      "language": "python"
    },
    "language_info": {
      "codemirror_mode": {
        "name": "python",
        "version": 3
      },
      "file_extension": ".py",
      "mimetype": "text/x-python",
      "name": "python",
      "nbconvert_exporter": "python",
      "pygments_lexer": "ipython3",
      "version": "3.8"
    },
    "widgets": {
      "application/vnd.jupyter.widget-state+json": {
        "version_major": 2,
        "version_minor": 0,
        "state": {}
      }
    }
  },
  "nbformat_minor": 4,
  "nbformat": 4,
  "cells": [
    {
      "cell_type": "code",
      "source": "Q1. In order to predict house price based on several characteristics, such as location, square footage,\nnumber of bedrooms, etc., you are developing an SVM regression model. Which regression metric in this\nsituation would be the best to employ?\nDataset link:\nhttps://drive.google.com/file/d/1Z9oLpmt6IDRNw7IeNcHYTGeJRYypRSC0/view?\n\nusp=share_link\nQ2. You have built an SVM regression model and are trying to decide between using MSE or R-squared as\nyour evaluation metric. Which metric would be more appropriate if your goal is to predict the actual price\nof a house as accurately as possible?\nQ3. You have a dataset with a significant number of outliers and are trying to select an appropriate\nregression metric to use with your SVM model. Which metric would be the most appropriate in this\nscenario?\nQ4. You have built an SVM regression model using a polynomial kernel and are trying to select the best\nmetric to evaluate its performance. You have calculated both MSE and RMSE and found that both values\nare very close. Which metric should you choose to use in this case?\nQ5. You are comparing the performance of different SVM regression models using different kernels (linear,\npolynomial, and RBF) and are trying to select the best evaluation metric. Which metric would be most\nappropriate if your goal is to measure how well the model explains the variance in the target variable?\n",
      "metadata": {
        "trusted": true
      },
      "outputs": [],
      "execution_count": null
    },
    {
      "cell_type": "code",
      "source": "\n\n**Q1. In order to predict house price based on several characteristics, such as location, square footage, number of bedrooms, etc., you are developing an SVM regression model. Which regression metric in this situation would be the best to employ?**\n\nIn the context of predicting house prices, the Mean Squared Error (MSE) would be the most suitable regression metric. MSE calculates the average squared difference between the predicted and actual house prices. By squaring the errors, MSE penalizes larger errors more heavily, making it sensitive to outliers. For predicting house prices, minimizing MSE ensures that the model accurately predicts the prices across the dataset.\n\n**Q2. You have built an SVM regression model and are trying to decide between using MSE or R-squared as your evaluation metric. Which metric would be more appropriate if your goal is to predict the actual price of a house as accurately as possible?**\n\nIf the goal is to predict the actual price of a house as accurately as possible, MSE would be more appropriate as the evaluation metric. MSE directly measures the average squared difference between predicted and actual values, providing a clear indication of the model's accuracy in predicting house prices. R-squared, while commonly used, measures the proportion of variance explained by the model, which may not directly reflect the accuracy of individual predictions.\n\n**Q3. You have a dataset with a significant number of outliers and are trying to select an appropriate regression metric to use with your SVM model. Which metric would be the most appropriate in this scenario?**\n\nIn the presence of outliers, Mean Absolute Error (MAE) would be the most appropriate regression metric to use with an SVM model. MAE calculates the average absolute difference between predicted and actual values, making it robust to outliers compared to MSE, which squares the errors. By giving equal weight to all errors, MAE is less sensitive to extreme values and provides a more balanced measure of model performance.\n\n**Q4. You have built an SVM regression model using a polynomial kernel and are trying to select the best metric to evaluate its performance. You have calculated both MSE and RMSE and found that both values are very close. Which metric should you choose to use in this case?**\n\nWhen both Mean Squared Error (MSE) and Root Mean Squared Error (RMSE) provide similar values, it's preferable to choose RMSE as the evaluation metric. RMSE has the advantage of being in the same units as the target variable (house prices), making it more interpretable and easier to communicate the magnitude of prediction errors in the context of house prices. Additionally, RMSE penalizes larger errors more heavily than smaller errors due to the square root operation, which might be desirable in some contexts.\n\n**Q5. You are comparing the performance of different SVM regression models using different kernels (linear, polynomial, and RBF) and are trying to select the best evaluation metric. Which metric would be most appropriate if your goal is to measure how well the model explains the variance in the target variable?**\n\nIn this scenario, R-squared (coefficient of determination) would be the most appropriate evaluation metric. R-squared measures the proportion of variance in the target variable that is explained by the independent variables (features) in the model. A higher R-squared value indicates that the model explains a larger proportion of the variance in the target variable, suggesting better performance in capturing the underlying patterns and trends in the data. R-squared is commonly used for model comparison when the goal is to assess how well the model explains the variance in the target variable across different kernels or algorithms.\n\n",
      "metadata": {
        "trusted": true
      },
      "outputs": [],
      "execution_count": null
    }
  ]
}
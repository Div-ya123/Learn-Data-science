{
  "metadata": {
    "kernelspec": {
      "name": "python",
      "display_name": "Python (Pyodide)",
      "language": "python"
    },
    "language_info": {
      "codemirror_mode": {
        "name": "python",
        "version": 3
      },
      "file_extension": ".py",
      "mimetype": "text/x-python",
      "name": "python",
      "nbconvert_exporter": "python",
      "pygments_lexer": "ipython3",
      "version": "3.8"
    },
    "widgets": {
      "application/vnd.jupyter.widget-state+json": {
        "version_major": 2,
        "version_minor": 0,
        "state": {}
      }
    }
  },
  "nbformat_minor": 4,
  "nbformat": 4,
  "cells": [
    {
      "cell_type": "code",
      "source": "Q1: What is Matplotlib? Why is it used? Name five plots that can be plotted using the Pyplot module of\nMatplotlib.\nQ2: What is a scatter plot? Use the following code to generate data for x and y. Using this generated data\nplot a scatter plot.\nimport numpy as np\nnp.random.seed(3)\nx = 3 + np.random.normal(0, 2, 50)\ny = 3 + np.random.normal(0, 2, len(x))\nNote: Also add title, xlabel, and ylabel to the plot.\nQ3: Why is the subplot() function used? Draw four line plots using the subplot() function.\nUse the following data:\nimport numpy as np\nFor line 1: x = np.array([0, 1, 2, 3, 4, 5]) and y = np.array([0, 100, 200, 300, 400, 500])\nFor line 2: x = np.array([0, 1, 2, 3, 4, 5]) and y = np.array([50, 20, 40, 20, 60, 70])\nFor line 3: x = np.array([0, 1, 2, 3, 4, 5]) and y = np.array([10, 20, 30, 40, 50, 60])\nFor line 4: x = np.array([0, 1, 2, 3, 4, 5]) and y = np.array([200, 350, 250, 550, 450, 150])\nQ4: What is a bar plot? Why is it used? Using the following data plot a bar plot and a horizontal bar plot.\nimport numpy as np\ncompany = np.array([\"Apple\", \"Microsoft\", \"Google\", \"AMD\"])\nprofit = np.array([3000, 8000, 1000, 10000])\nQ5: What is a box plot? Why is it used? Using the following data plot a box plot.\nbox1 = np.random.normal(100, 10, 200)\nbox2 = np.random.normal(90, 20, 200)",
      "metadata": {
        "trusted": true
      },
      "outputs": [],
      "execution_count": null
    },
    {
      "cell_type": "code",
      "source": "Q1: Matplotlib is a plotting library in Python used for creating static, animated, and interactive visualizations in Python. It is widely used for data visualization purposes and provides a wide range of plotting functions and customization options. Five plots that can be plotted using the Pyplot module of Matplotlib are:\n1. Line Plot\n2. Scatter Plot\n3. Bar Plot\n4. Histogram\n5. Box Plot\n\nQ2: A scatter plot is a type of plot that displays values for two variables as points on a Cartesian plane, where each point represents an observation in the data. Here's the code to generate a scatter plot using the given data and add title, xlabel, and ylabel:\n```python\nimport matplotlib.pyplot as plt\nimport numpy as np\n\nnp.random.seed(3)\nx = 3 + np.random.normal(0, 2, 50)\ny = 3 + np.random.normal(0, 2, len(x))\n\nplt.scatter(x, y)\nplt.title('Scatter Plot')\nplt.xlabel('X-axis')\nplt.ylabel('Y-axis')\nplt.show()\n```\n\nQ3: The subplot() function in Matplotlib is used to create multiple plots in the same figure. It allows you to arrange plots in rows and columns. Here's how you can draw four line plots using the subplot() function:\n```python\nimport matplotlib.pyplot as plt\nimport numpy as np\n\nx = np.array([0, 1, 2, 3, 4, 5])\n\n# Line 1\ny1 = np.array([0, 100, 200, 300, 400, 500])\nplt.subplot(2, 2, 1)\nplt.plot(x, y1)\nplt.title('Line 1')\n\n# Line 2\ny2 = np.array([50, 20, 40, 20, 60, 70])\nplt.subplot(2, 2, 2)\nplt.plot(x, y2)\nplt.title('Line 2')\n\n# Line 3\ny3 = np.array([10, 20, 30, 40, 50, 60])\nplt.subplot(2, 2, 3)\nplt.plot(x, y3)\nplt.title('Line 3')\n\n# Line 4\ny4 = np.array([200, 350, 250, 550, 450, 150])\nplt.subplot(2, 2, 4)\nplt.plot(x, y4)\nplt.title('Line 4')\n\nplt.tight_layout()\nplt.show()\n```\n\nQ4: A bar plot is a type of plot that represents categorical data with rectangular bars. It is used to compare data across categories. Here's how you can plot a bar plot and a horizontal bar plot using the given data:\n```python\nimport matplotlib.pyplot as plt\nimport numpy as np\n\ncompany = np.array([\"Apple\", \"Microsoft\", \"Google\", \"AMD\"])\nprofit = np.array([3000, 8000, 1000, 10000])\n\n# Vertical Bar Plot\nplt.bar(company, profit)\nplt.title('Bar Plot')\nplt.xlabel('Company')\nplt.ylabel('Profit')\nplt.show()\n\n# Horizontal Bar Plot\nplt.barh(company, profit)\nplt.title('Horizontal Bar Plot')\nplt.xlabel('Profit')\nplt.ylabel('Company')\nplt.show()\n```\n\nQ5: A box plot, also known as a box-and-whisker plot, is used to visualize the distribution of a dataset along with its median, quartiles, and outliers. It provides a summary of the data's central tendency and spread. Here's how you can plot a box plot using the given data:\n```python\nimport matplotlib.pyplot as plt\nimport numpy as np\n\nbox1 = np.random.normal(100, 10, 200)\nbox2 = np.random.normal(90, 20, 200)\n\ndata = [box1, box2]\n\nplt.boxplot(data)\nplt.title('Box Plot')\nplt.xlabel('Box')\nplt.ylabel('Values')\nplt.xticks([1, 2], ['Box 1', 'Box 2'])\nplt.show()\n```",
      "metadata": {
        "trusted": true
      },
      "outputs": [],
      "execution_count": null
    }
  ]
}
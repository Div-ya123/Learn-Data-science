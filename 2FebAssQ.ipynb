{
  "metadata": {
    "kernelspec": {
      "name": "python",
      "display_name": "Python (Pyodide)",
      "language": "python"
    },
    "language_info": {
      "codemirror_mode": {
        "name": "python",
        "version": 3
      },
      "file_extension": ".py",
      "mimetype": "text/x-python",
      "name": "python",
      "nbconvert_exporter": "python",
      "pygments_lexer": "ipython3",
      "version": "3.8"
    },
    "widgets": {
      "application/vnd.jupyter.widget-state+json": {
        "version_major": 2,
        "version_minor": 0,
        "state": {}
      }
    }
  },
  "nbformat_minor": 4,
  "nbformat": 4,
  "cells": [
    {
      "cell_type": "code",
      "source": "Consider the below code to answer further questions:\nimport numpy as np\nlist_ = [ ‘1’ , ’2’ , ‘3’ , ‘4’ , ‘5’ ]\narray_list = np.array(object = list_)\nQ1. Is there any difference in the data type of variables list_ and array_list? If there is then write a code\nto print the data types of both the variables.\nQ2. Write a code to print the data type of each and every element of both the variables list_ and\narra_list.\nQ3. Considering the following changes in the variable, array_list:\narray_list = np.array(object = list_, dtype = int)\nWill there be any difference in the data type of the elements present in both the variables, list_ and\narra_list? If so then print the data types of each and every element present in both the variables, list_\nand arra_list.\nConsider the below code to answer further questions:\nimport numpy as np\nnum_list = [ [ 1 , 2 , 3 ] , [ 4 , 5 , 6 ] ]\nnum_array = np.array(object = num_list)\nQ4. Write a code to find the following characteristics of variable, num_array:\n(i) shape\n(ii) size\nQ5. Write a code to create numpy array of 3*3 matrix containing zeros only, using a numpy array\ncreation function.\n[Hint: The size of the array will be 9 and the shape will be (3,3).]\nQ6. Create an identity matrix of shape (5,5) using numpy functions?\n[Hint: An identity matrix is a matrix containing 1 diagonally and other elements will be 0.]",
      "metadata": {
        "trusted": true
      },
      "outputs": [],
      "execution_count": null
    },
    {
      "cell_type": "code",
      "source": "Solution : \n\n\nQ1. To check if there is any difference in the data type of variables `list_` and `array_list`, and if so, print their data types:\n```python\nimport numpy as np\n\nlist_ = ['1', '2', '3', '4', '5']\narray_list = np.array(object=list_)\n\nif list_ == array_list.tolist():\n    print(\"No difference in data type\")\nelse:\n    print(f\"Data type of list_: {type(list_[0])}\")\n    print(f\"Data type of array_list: {type(array_list[0])}\")\n```\n\nQ2. To print the data type of each element of both `list_` and `array_list`:\n```python\nimport numpy as np\n\nlist_ = ['1', '2', '3', '4', '5']\narray_list = np.array(object=list_)\n\nprint(\"Data type of each element in list_:\")\nfor elem in list_:\n    print(type(elem))\n\nprint(\"\\nData type of each element in array_list:\")\nfor elem in array_list:\n    print(type(elem))\n```\n\nQ3. Considering the change in `array_list` to have integer data type:\n```python\nimport numpy as np\n\nlist_ = ['1', '2', '3', '4', '5']\narray_list = np.array(object=list_, dtype=int)\n\nprint(\"Data type of each element in list_:\")\nfor elem in list_:\n    print(type(elem))\n\nprint(\"\\nData type of each element in array_list:\")\nfor elem in array_list:\n    print(type(elem))\n```\n\nQ4. To find the shape and size of the variable `num_array`:\n```python\nimport numpy as np\n\nnum_list = [[1, 2, 3], [4, 5, 6]]\nnum_array = np.array(object=num_list)\n\nprint(f\"Shape of num_array: {num_array.shape}\")\nprint(f\"Size of num_array: {num_array.size}\")\n```\n\nQ5. To create a numpy array of a 3x3 matrix containing zeros only:\n```python\nimport numpy as np\n\nzero_matrix = np.zeros((3, 3))\nprint(zero_matrix)\n```\n\nQ6. To create an identity matrix of shape (5, 5) using numpy functions:\n```python\nimport numpy as np\n\nidentity_matrix = np.eye(5)\nprint(identity_matrix)\n```\n\nThese codes should help you understand and perform the operations as per your questions.",
      "metadata": {
        "trusted": true
      },
      "outputs": [],
      "execution_count": null
    }
  ]
}
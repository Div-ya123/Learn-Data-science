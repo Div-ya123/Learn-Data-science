{
  "metadata": {
    "kernelspec": {
      "name": "python",
      "display_name": "Python (Pyodide)",
      "language": "python"
    },
    "language_info": {
      "codemirror_mode": {
        "name": "python",
        "version": 3
      },
      "file_extension": ".py",
      "mimetype": "text/x-python",
      "name": "python",
      "nbconvert_exporter": "python",
      "pygments_lexer": "ipython3",
      "version": "3.8"
    },
    "widgets": {
      "application/vnd.jupyter.widget-state+json": {
        "version_major": 2,
        "version_minor": 0,
        "state": {}
      }
    }
  },
  "nbformat_minor": 4,
  "nbformat": 4,
  "cells": [
    {
      "cell_type": "code",
      "source": "Q1. Pearson correlation coefficient is a measure of the linear relationship between two variables. Suppose\nyou have collected data on the amount of time students spend studying for an exam and their final exam\nscores. Calculate the Pearson correlation coefficient between these two variables and interpret the result.\nQ2. Spearman's rank correlation is a measure of the monotonic relationship between two variables.\nSuppose you have collected data on the amount of sleep individuals get each night and their overall job\nsatisfaction level on a scale of 1 to 10. Calculate the Spearman's rank correlation between these two\nvariables and interpret the result.\nQ3. Suppose you are conducting a study to examine the relationship between the number of hours of\nexercise per week and body mass index (BMI) in a sample of adults. You collected data on both variables\nfor 50 participants. Calculate the Pearson correlation coefficient and the Spearman's rank correlation\nbetween these two variables and compare the results.\nQ4. A researcher is interested in examining the relationship between the number of hours individuals\nspend watching television per day and their level of physical activity. The researcher collected data on\nboth variables from a sample of 50 participants. Calculate the Pearson correlation coefficient between\nthese two variables.\nQ5. A survey was conducted to examine the relationship between age and preference for a particular\nbrand of soft drink. The survey results are shown below:\n\nAge(Years)\n25 Coke\n42 Pepsi\n37\n19\n31\n28\n\nMountain dew\nCoke\nPepsi\nCoke\n\nQ6. A company is interested in examining the relationship between the number of sales calls made per day\nand the number of sales made per week. The company collected data on both variables from a sample of\n30 sales representatives. Calculate the Pearson correlation coefficient between these two variables.",
      "metadata": {
        "trusted": true
      },
      "outputs": [],
      "execution_count": null
    },
    {
      "cell_type": "code",
      "source": "\n\nQ1: **Pearson Correlation Coefficient**\n- **Calculation:** Suppose we have the following data for students' study time (hours) and their final exam scores (out of 100):\n  ```\n  Study Time: [5, 8, 7, 6, 4]\n  Exam Scores: [80, 90, 85, 75, 70]\n  ```\n  Using the formula for Pearson correlation:\n  \\[ r = \\frac{n(\\sum{XY}) - (\\sum{X})(\\sum{Y})}{\\sqrt{[n\\sum{X^2} - (\\sum{X})^2][n\\sum{Y^2} - (\\sum{Y})^2]}} \\]\n  Plug in the values and calculate to get the Pearson correlation coefficient (r).\n- **Interpretation:** If \\( r > 0 \\), it indicates a positive correlation, meaning as study time increases, exam scores tend to increase. If \\( r < 0 \\), it indicates a negative correlation, implying that more study time is associated with lower exam scores.\n\nQ2: **Spearman's Rank Correlation**\n- **Calculation:** Suppose we have the following data for sleep hours and job satisfaction levels:\n  ```\n  Sleep Hours: [7, 8, 6, 9, 5]\n  Job Satisfaction: [8, 7, 9, 6, 5]\n  ```\n  Convert the data into ranks and then calculate Spearman's rank correlation using the formula:\n  \\[ \\rho = 1 - \\frac{6\\sum{d_i^2}}{n(n^2 - 1)} \\]\n  where \\( d_i \\) is the difference between the ranks of corresponding pairs.\n- **Interpretation:** A Spearman's rank correlation close to 1 indicates a strong monotonic relationship, meaning as sleep hours increase, job satisfaction tends to increase.\n\nQ3: **Comparing Pearson and Spearman Correlation**\n- **Calculation:** Compute both Pearson correlation coefficient (r) and Spearman's rank correlation (ρ) for the given data on exercise hours and BMI for 50 participants.\n- **Interpretation:** If both coefficients are similar (e.g., both positive and relatively close to 1), it indicates a strong linear relationship between exercise hours and BMI. If Spearman's ρ is higher than Pearson's r, it suggests a non-linear relationship that Spearman's rank correlation captures better.\n\nQ4: **Pearson Correlation Coefficient**\n- **Calculation:** For example, let's say we have data for TV hours and physical activity levels for 50 participants. Calculate Pearson correlation coefficient (r) using the formula.\n- **Interpretation:** A positive \\( r \\) suggests a positive linear relationship (more TV time, less physical activity or vice versa), while a negative \\( r \\) implies an inverse relationship.\n\nQ5: **Age and Soft Drink Preference**\n- The provided data seems incomplete or not suitable for correlation analysis. Please provide the complete dataset or clarify the format.\n\nQ6: **Pearson Correlation Coefficient for Sales Calls and Sales**\n- **Calculation:** Let's say we have data for sales calls per day and sales made per week for 30 sales representatives. Calculate Pearson correlation coefficient (r) using the formula.\n- **Interpretation:** A positive \\( r \\) indicates a positive linear relationship (more sales calls, more sales made), while a negative \\( r \\) implies an inverse relationship.\n\nFor the calculations, you can use Python libraries like NumPy or pandas to compute correlation coefficients efficiently.",
      "metadata": {
        "trusted": true
      },
      "outputs": [],
      "execution_count": null
    }
  ]
}
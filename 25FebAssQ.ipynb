{
  "metadata": {
    "kernelspec": {
      "name": "python",
      "display_name": "Python (Pyodide)",
      "language": "python"
    },
    "language_info": {
      "codemirror_mode": {
        "name": "python",
        "version": 3
      },
      "file_extension": ".py",
      "mimetype": "text/x-python",
      "name": "python",
      "nbconvert_exporter": "python",
      "pygments_lexer": "ipython3",
      "version": "3.8"
    },
    "widgets": {
      "application/vnd.jupyter.widget-state+json": {
        "version_major": 2,
        "version_minor": 0,
        "state": {}
      }
    }
  },
  "nbformat_minor": 4,
  "nbformat": 4,
  "cells": [
    {
      "cell_type": "code",
      "source": "Let's go through each question and provide the solutions accordingly:\n\n### Q1. Write a code to print the data present in the second row of the dataframe, `df`.\n\n```python\nimport pandas as pd\n\ncourse_name = ['Data Science', 'Machine Learning', 'Big Data', 'Data Engineer']\nduration = [2, 3, 6, 4]\ndf = pd.DataFrame(data={'course_name': course_name, 'duration': duration})\n\n# Print the data present in the second row\nsecond_row = df.iloc[1]\nprint(second_row)\n```\n\n### Q2. What is the difference between the functions `loc` and `iloc` in `pandas.DataFrame`?\n\n- `loc`: Accesses a group of rows and columns by labels or a boolean array.\n- `iloc`: Accesses a group of rows and columns by integer positions (i.e., by index).\n\n### Q3. Reindex the given dataframe using a variable, `reindex = [3,0,1,2]` and store it in the variable, `new_df` then find the output for both `new_df.loc[2]` and `new_df.iloc[2]`.\n\n```python\nreindex = [3, 0, 1, 2]\nnew_df = df.reindex(reindex)\n\n# Outputs\nloc_output = new_df.loc[2]\niloc_output = new_df.iloc[2]\n\nprint(\"new_df.loc[2]:\\n\", loc_output)\nprint(\"\\nnew_df.iloc[2]:\\n\", iloc_output)\n```\n\n**Explanation:**\n- `new_df.loc[2]`: Will return the row with the label `2` in the original dataframe.\n- `new_df.iloc[2]`: Will return the third row (0-based index) in the reindexed dataframe.\n\n### Q4. Write a code to find the following statistical measurements for the dataframe `df1`:\n(i) Mean of each column.\n(ii) Standard deviation of the column, `column_2`.\n\n```python\nimport pandas as pd\nimport numpy as np\n\ncolumns = ['column_1', 'column_2', 'column_3', 'column_4', 'column_5', 'column_6']\nindices = [1, 2, 3, 4, 5, 6]\ndf1 = pd.DataFrame(np.random.rand(6, 6), columns=columns, index=indices)\n\n# (i) Mean of each column\nmean_values = df1.mean()\nprint(\"Mean of each column:\\n\", mean_values)\n\n# (ii) Standard deviation of column_2\nstd_column_2 = df1['column_2'].std()\nprint(\"\\nStandard deviation of column_2:\\n\", std_column_2)\n```\n\n### Q5. Replace the data present in the second row of column, `column_2` by a string variable then find the mean of column, `column_2`. Explain if you get any errors.\n\n```python\n# Replacing the data in the second row of column_2 with a string\ndf1.loc[2, 'column_2'] = 'string_value'\n\n# Attempt to find the mean of column_2\ntry:\n    mean_column_2 = df1['column_2'].mean()\n    print(\"Mean of column_2:\\n\", mean_column_2)\nexcept TypeError as e:\n    print(\"Error:\", e)\n```\n\n**Explanation:**\nWhen you replace a numerical value with a string in a column, the entire column is converted to an object type, which means numerical operations like calculating the mean will not work and will raise a `TypeError`.\n\n### Q6. What do you understand about the windows function in pandas and list the types of windows functions?\n\n**Answer:**\nWindow functions in pandas are used to perform operations across a defined sliding window of rows. These functions are useful for calculating rolling statistics. Types of window functions include:\n- Rolling windows (`rolling`)\n- Expanding windows (`expanding`)\n- Exponentially weighted windows (`ewm`)\n\n### Q7. Write a code to print only the current month and year at the time of answering this question.\n\n```python\nimport pandas as pd\n\ncurrent_date = pd.to_datetime('today')\nprint(current_date.strftime('%Y-%m'))\n```\n\n### Q8. Write a Python program that takes in two dates as input (in the format YYYY-MM-DD) and calculates the difference between them in days, hours, and minutes using Pandas time delta.\n\n```python\nimport pandas as pd\n\n# Input dates\ndate1 = pd.to_datetime(input(\"Enter the first date (YYYY-MM-DD): \"))\ndate2 = pd.to_datetime(input(\"Enter the second date (YYYY-MM-DD): \"))\n\n# Calculate the difference\ndifference = date2 - date1\n\n# Extract days, hours, and minutes\ndays = difference.days\nhours = difference.seconds // 3600\nminutes = (difference.seconds % 3600) // 60\n\nprint(f\"Difference: {days} days, {hours} hours, and {minutes} minutes\")\n```\n\n### Q9. Write a Python program that reads a CSV file containing categorical data and converts a specified column to a categorical data type. The program should prompt the user to enter the file path, column name, and category order, and then display the sorted data.\n\n```python\nimport pandas as pd\n\n# Input file path, column name, and category order\nfile_path = input(\"Enter the file path: \")\ncolumn_name = input(\"Enter the column name to convert to categorical: \")\ncategory_order = input(\"Enter the category order (comma-separated): \").split(',')\n\n# Read the CSV file\ndf = pd.read_csv(file_path)\n\n# Convert the specified column to categorical type\ndf[column_name] = pd.Categorical(df[column_name], categories=category_order, ordered=True)\n\n# Sort the data by the categorical column\ndf_sorted = df.sort_values(by=column_name)\n\nprint(df_sorted)\n```\n\n### Q10. Write a Python program that reads a CSV file containing sales data for different products and visualizes the data using a stacked bar chart to show the sales of each product category over time.\n\n```python\nimport pandas as pd\nimport matplotlib.pyplot as plt\n\n# Input file path\nfile_path = input(\"Enter the file path: \")\n\n# Read the CSV file\ndf = pd.read_csv(file_path)\n\n# Assuming the CSV file has columns 'Date', 'Product', and 'Sales'\n# Pivot the data to get sales of each product category over time\ndf_pivot = df.pivot_table(index='Date', columns='Product', values='Sales', aggfunc='sum').fillna(0)\n\n# Plot a stacked bar chart\ndf_pivot.plot(kind='bar', stacked=True, figsize=(10, 7))\nplt.title(\"Sales of Each Product Category Over Time\")\nplt.xlabel(\"Date\")\nplt.ylabel(\"Sales\")\nplt.legend(title=\"Product\")\nplt.show()\n```\n\n### Q11. Write a Python program that reads a CSV file containing student data that includes the student ID and their test score. Calculate the mean, median, and mode of the test scores and display the results in a table.\n\n```python\nimport pandas as pd\nfrom scipy import stats\n\n# Input file path\nfile_path = input(\"Enter the file path of the CSV file containing the student data: \")\n\n# Read the CSV file into a Pandas DataFrame\ndf = pd.read_csv(file_path)\n\n# Calculate the mean, median, and mode of the test scores\nmean_score = df['Test Score'].mean()\nmedian_score = df['Test Score'].median()\nmode_score = df['Test Score'].mode().tolist()\n\n# Display the results in a table\nprint(f\"+{'-'*11}+{'-'*8}+\")\nprint(f\"| {'Statistic':^9} | {'Value':^6} |\")\nprint(f\"+{'-'*11}+{'-'*8}+\")\nprint(f\"| {'Mean':^9} | {mean_score:^6.1f} |\")\nprint(f\"| {'Median':^9} | {median_score:^6.1f} |\")\nprint(f\"| {'Mode':^9} | {', '.join(map(str, mode_score))} |\")\nprint(f\"+{'-'*11}+{'-'*8}+\")\n```\n\n\n",
      "metadata": {
        "trusted": true
      },
      "outputs": [],
      "execution_count": null
    }
  ]
}
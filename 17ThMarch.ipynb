{
  "metadata": {
    "kernelspec": {
      "name": "python",
      "display_name": "Python (Pyodide)",
      "language": "python"
    },
    "language_info": {
      "codemirror_mode": {
        "name": "python",
        "version": 3
      },
      "file_extension": ".py",
      "mimetype": "text/x-python",
      "name": "python",
      "nbconvert_exporter": "python",
      "pygments_lexer": "ipython3",
      "version": "3.8"
    },
    "widgets": {
      "application/vnd.jupyter.widget-state+json": {
        "version_major": 2,
        "version_minor": 0,
        "state": {}
      }
    }
  },
  "nbformat_minor": 4,
  "nbformat": 4,
  "cells": [
    {
      "cell_type": "code",
      "source": "Q1: What are missing values in a dataset? Why is it essential to handle missing values? Name some\nalgorithms that are not affected by missing values.\nQ2: List down techniques used to handle missing data. Give an example of each with python code.\nQ3: Explain the imbalanced data. What will happen if imbalanced data is not handled?\n\nQ4: What are Up-sampling and Down-sampling? Explain with an example when up-sampling and down-\nsampling are required.\n\nQ5: What is data Augmentation? Explain SMOTE.\nQ6: What are outliers in a dataset? Why is it essential to handle outliers?\nQ7: You are working on a project that requires analyzing customer data. However, you notice that some of\nthe data is missing. What are some techniques you can use to handle the missing data in your analysis?\nQ8: You are working with a large dataset and find that a small percentage of the data is missing. What are\nsome strategies you can use to determine if the missing data is missing at random or if there is a pattern\nto the missing data?\nQ9: Suppose you are working on a medical diagnosis project and find that the majority of patients in the\ndataset do not have the condition of interest, while a small percentage do. What are some strategies you\ncan use to evaluate the performance of your machine learning model on this imbalanced dataset?\nQ10: When attempting to estimate customer satisfaction for a project, you discover that the dataset is\nunbalanced, with the bulk of customers reporting being satisfied. What methods can you employ to\nbalance the dataset and down-sample the majority class?\nQ11: You discover that the dataset is unbalanced with a low percentage of occurrences while working on a\nproject that requires you to estimate the occurrence of a rare event. What methods can you employ to\nbalance the dataset and up-sample the minority class?",
      "metadata": {
        "trusted": true
      },
      "outputs": [],
      "execution_count": null
    },
    {
      "cell_type": "code",
      "source": "\n\nQ1: Missing values in a dataset refer to entries or cells that have no data or information. It is crucial to handle missing values because they can:\n- Lead to biased or inaccurate analysis and modeling results.\n- Reduce the performance of machine learning algorithms, especially those that cannot handle missing values.\n- Create inconsistencies and errors in data processing and interpretation.\n\nSome algorithms that are not affected by missing values include:\n- Decision trees (e.g., Random Forests)\n- Naive Bayes\n- K-nearest neighbors (KNN)\n- Support Vector Machines (SVM) with proper preprocessing.\n\nQ2: Techniques to handle missing data include:\n- Dropping missing values.\n- Imputing missing values using mean, median, or mode.\n- Using machine learning algorithms to predict missing values based on other features.\n\nExample of handling missing data with Python code (using Pandas library):\n```python\nimport pandas as pd\nfrom sklearn.impute import SimpleImputer\n\n# Create a sample DataFrame with missing values\ndata = {'A': [1, 2, None, 4, 5],\n        'B': [10, None, 30, 40, 50]}\ndf = pd.DataFrame(data)\n\n# Handling missing values by imputing with mean\nimputer = SimpleImputer(strategy='mean')\ndf_imputed = pd.DataFrame(imputer.fit_transform(df), columns=df.columns)\n\nprint(df_imputed)\n```\n\nQ3: Imbalanced data refers to a situation where the classes or categories in the dataset are not represented equally. If imbalanced data is not handled:\n- Machine learning models may become biased towards the majority class, leading to poor performance in predicting minority classes.\n- Evaluation metrics such as accuracy can be misleading, as they may appear high due to the dominance of the majority class.\n\nQ4: Up-sampling and down-sampling are techniques used to address class imbalance in datasets:\n- Up-sampling involves randomly duplicating examples from the minority class to balance class distribution.\n- Down-sampling involves randomly removing examples from the majority class to balance class distribution.\n\nExample:\n- Up-sampling: Suppose you have a dataset with 90% non-fraudulent transactions and 10% fraudulent transactions. You can up-sample the minority class (fraudulent transactions) by duplicating examples to achieve a balanced dataset.\n- Down-sampling: In the same scenario, you can down-sample the majority class (non-fraudulent transactions) by randomly removing examples to achieve class balance.\n\nQ5: Data augmentation is a technique used to increase the diversity of data for training models, especially in computer vision tasks. SMOTE (Synthetic Minority Over-sampling Technique) is a method used to generate synthetic samples for the minority class in imbalanced datasets.\n\nQ6: Outliers are data points that significantly deviate from the rest of the data. It is essential to handle outliers because they can:\n- Distort statistical analyses and modeling results.\n- Mislead interpretations of data patterns and relationships.\n- Negatively impact the performance of machine learning models by introducing noise.\n\nQ7: Techniques to handle missing data in analysis include:\n- Imputing missing values using statistical measures like mean, median, or mode.\n- Using machine learning algorithms to predict missing values based on other features.\n- Dropping rows or columns with a significant number of missing values if they do not affect the analysis significantly.\n\nQ8: Strategies to determine if missing data is missing at random or follows a pattern include:\n- Analyzing patterns of missing values across different features or variables.\n- Using statistical tests or visualizations to identify correlations between missing values and other factors.\n- Consulting domain experts to understand the potential reasons for missing data.\n\nQ9: Strategies to evaluate the performance of machine learning models on imbalanced datasets include:\n- Using evaluation metrics suitable for imbalanced data, such as precision, recall, F1-score, and ROC-AUC.\n- Applying techniques like class weighting or resampling (up-sampling minority class or down-sampling majority class) to balance class distribution during model training.\n- Utilizing advanced algorithms designed for imbalanced data, such as ensemble methods like Random Forests or gradient boosting algorithms.\n\nQ10: Methods to balance an unbalanced dataset and down-sample the majority class include:\n- Random under-sampling: Randomly select a subset of examples from the majority class to match the size of the minority class.\n- Cluster-based under-sampling: Cluster the majority class and sample from each cluster to create a balanced dataset.\n\nQ11: Methods to balance an unbalanced dataset and up-sample the minority class include:\n- Random over-sampling: Randomly duplicate examples from the minority class to match the size of the majority class.\n- Synthetic over-sampling techniques like SMOTE: Generate synthetic samples for the minority class based on feature similarities with existing examples.",
      "metadata": {
        "trusted": true
      },
      "outputs": [],
      "execution_count": null
    }
  ]
}
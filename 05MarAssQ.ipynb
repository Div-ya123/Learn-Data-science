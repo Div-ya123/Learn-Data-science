{
  "metadata": {
    "kernelspec": {
      "name": "python",
      "display_name": "Python (Pyodide)",
      "language": "python"
    },
    "language_info": {
      "codemirror_mode": {
        "name": "python",
        "version": 3
      },
      "file_extension": ".py",
      "mimetype": "text/x-python",
      "name": "python",
      "nbconvert_exporter": "python",
      "pygments_lexer": "ipython3",
      "version": "3.8"
    },
    "widgets": {
      "application/vnd.jupyter.widget-state+json": {
        "version_major": 2,
        "version_minor": 0,
        "state": {}
      }
    }
  },
  "nbformat_minor": 4,
  "nbformat": 4,
  "cells": [
    {
      "cell_type": "code",
      "source": "Q1. How can you create a Bokeh plot using Python code?\nQ2. What are glyphs in Bokeh, and how can you add them to a Bokeh plot? Explain with an example.\nQ3. How can you customize the appearance of a Bokeh plot, including the axes, title, and legend?\nQ4. What is a Bokeh server, and how can you use it to create interactive plots that can be updated in\nreal time?\nQ5. How can you embed a Bokeh plot into a web page or dashboard using Flask or Django?",
      "metadata": {
        "trusted": true
      },
      "outputs": [],
      "execution_count": null
    },
    {
      "cell_type": "code",
      "source": "Sure, here are answers to your questions about Bokeh:\n\nQ1: How to create a Bokeh plot using Python code?\nBokeh is a Python library that allows for interactive plotting and visualization. Here's how you can create a simple Bokeh plot:\n\n```python\nfrom bokeh.plotting import figure, show\n\n# Create a new plot with a title and axis labels\nplot = figure(title='My Bokeh Plot', x_axis_label='X-axis', y_axis_label='Y-axis')\n\n# Add data to the plot\nx_values = [1, 2, 3, 4, 5]\ny_values = [6, 7, 2, 4, 8]\nplot.line(x_values, y_values, legend_label='Line', line_width=2)\n\n# Show the plot\nshow(plot)\n```\n\nQ2: What are glyphs in Bokeh, and how can you add them to a Bokeh plot? Explain with an example.\nGlyphs are visual markers such as lines, circles, squares, etc., that can be added to a Bokeh plot to represent data. Here's an example of adding a circle glyph to a Bokeh plot:\n\n```python\nfrom bokeh.plotting import figure, show\n\n# Create a new plot\nplot = figure(title='Glyph Example', x_axis_label='X-axis', y_axis_label='Y-axis')\n\n# Add a circle glyph to the plot\nx_values = [1, 2, 3, 4, 5]\ny_values = [6, 7, 2, 4, 8]\nplot.circle(x_values, y_values, size=10, color='navy', alpha=0.5, legend_label='Circle')\n\n# Show the plot\nshow(plot)\n```\n\nQ3: How to customize the appearance of a Bokeh plot, including axes, title, and legend?\nYou can customize various aspects of a Bokeh plot, such as axes, title, legend, colors, etc., using different attributes and methods. Here's an example of customizing a Bokeh plot:\n\n```python\nfrom bokeh.plotting import figure, show\n\n# Create a new plot\nplot = figure(title='Customized Plot', x_axis_label='X-axis', y_axis_label='Y-axis',\n              background_fill_color='lightgrey')\n\n# Add data to the plot\nx_values = [1, 2, 3, 4, 5]\ny_values = [6, 7, 2, 4, 8]\nplot.line(x_values, y_values, line_width=2, color='green', legend_label='Line')\n\n# Customize axes\nplot.xaxis.axis_label_text_color = 'blue'\nplot.yaxis.axis_label_text_font_style = 'italic'\n\n# Customize title\nplot.title.text_color = 'purple'\nplot.title.text_font_size = '18pt'\n\n# Customize legend\nplot.legend.location = 'top_left'\nplot.legend.title = 'Legend'\n\n# Show the plot\nshow(plot)\n```\n\nQ4: What is a Bokeh server, and how can you use it to create interactive plots that can be updated in real time?\nBokeh server is a Python server that allows you to create and serve interactive Bokeh plots and apps. You can update and modify plots dynamically in response to user interactions or changes in data. Here's a basic example of how to use Bokeh server to create an interactive plot:\n\n```python\nfrom bokeh.plotting import figure, curdoc\nfrom bokeh.models import ColumnDataSource\nimport numpy as np\n\n# Create initial data\nx = np.linspace(0, 4 * np.pi, 100)\ny = np.sin(x)\nsource = ColumnDataSource(data={'x': x, 'y': y})\n\n# Create a new plot\nplot = figure(title='Interactive Plot', x_axis_label='X-axis', y_axis_label='Y-axis')\nplot.line('x', 'y', source=source)\n\n# Define callback function to update data\ndef update_data():\n    new_y = np.sin(x + curdoc().counter)\n    source.data = {'x': x, 'y': new_y}\n    curdoc().counter += 0.1\n\ncurdoc().add_root(plot)\ncurdoc().counter = 0\n\n# Add periodic callback to update data\ncurdoc().add_periodic_callback(update_data, 100)\n\n# To run this, save it as a .py file and run 'bokeh serve --show filename.py' in the terminal\n```\n\nQ5: How to embed a Bokeh plot into a web page or dashboard using Flask or Django?\nTo embed a Bokeh plot into a web page or dashboard using Flask or Django, you can create a Bokeh app and then embed it into your Flask or Django app. Here's a basic example using Flask:\n\n```python\nfrom flask import Flask, render_template\nfrom bokeh.embed import components\nfrom bokeh.plotting import figure\nfrom bokeh.resources import CDN\n\napp = Flask(__name__)\n\n@app.route('/')\ndef index():\n    # Create a Bokeh plot\n    plot = figure(title='Embedded Plot', x_axis_label='X-axis', y_axis_label='Y-axis')\n    plot.circle([1, 2, 3], [4, 5, 6], size=10, color='navy')\n\n    # Generate script and div components for embedding\n    script, div = components(plot, CDN)\n    \n    # Render the HTML template with the embedded components\n    return render_template",
      "metadata": {
        "trusted": true
      },
      "outputs": [],
      "execution_count": null
    }
  ]
}
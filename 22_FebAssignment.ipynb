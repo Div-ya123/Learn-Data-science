{
  "metadata": {
    "kernelspec": {
      "name": "python",
      "display_name": "Python (Pyodide)",
      "language": "python"
    },
    "language_info": {
      "codemirror_mode": {
        "name": "python",
        "version": 3
      },
      "file_extension": ".py",
      "mimetype": "text/x-python",
      "name": "python",
      "nbconvert_exporter": "python",
      "pygments_lexer": "ipython3",
      "version": "3.8"
    },
    "widgets": {
      "application/vnd.jupyter.widget-state+json": {
        "version_major": 2,
        "version_minor": 0,
        "state": {}
      }
    }
  },
  "nbformat_minor": 4,
  "nbformat": 4,
  "cells": [
    {
      "cell_type": "code",
      "source": "URL: https://www.youtube.com/@PW-Foundation/videos\nQ1. Write a python program to extract the video URL of the first five videos.\n\nSolution : \n\nTo extract the video URLs of the first five videos from the provided YouTube channel URL, you can use Python with the `requests` and `BeautifulSoup` libraries. Here's how you can do it:\n\n```python\nimport requests\nfrom bs4 import BeautifulSoup\n\n# Send a GET request to the YouTube URL\nurl = \"https://www.youtube.com/@PW-Foundation/videos\"\nresponse = requests.get(url)\n\n# Parse the HTML content\nsoup = BeautifulSoup(response.text, 'html.parser')\n\n# Find all video elements\nvideo_elements = soup.find_all('a', class_='yt-simple-endpoint style-scope ytd-grid-video-renderer', limit=5)\n\n# Extract video URLs\nvideo_urls = []\nfor video in video_elements:\n    video_urls.append(\"https://www.youtube.com\" + video['href'])\n\n# Print the extracted video URLs\nfor index, video_url in enumerate(video_urls, 1):\n    print(f\"Video {index}: {video_url}\")\n```\n\nThis script will extract the video URLs of the first five videos from the YouTube channel and print them. You can further modify the code to save these URLs to a file or use them in other ways as needed.\n\nOf course! Let's solve each question separately.\n\n### Q2. Extract the URL of the video thumbnails of the first five videos:\n\n```python\nimport requests\nfrom bs4 import BeautifulSoup\n\n# Send a GET request to the YouTube URL\nurl = \"https://www.youtube.com/@PW-Foundation/videos\"\nresponse = requests.get(url)\n\n# Parse the HTML content\nsoup = BeautifulSoup(response.text, 'html.parser')\n\n# Find all video elements\nvideo_elements = soup.find_all('a', class_='yt-simple-endpoint style-scope ytd-grid-video-renderer', limit=5)\n\n# Initialize list to store thumbnail URLs\nthumbnails_urls = []\n\n# Extract thumbnail URLs\nfor video in video_elements:\n    # Extract video thumbnail URL\n    thumbnail = video.find('img')\n    if thumbnail:\n        thumbnails_urls.append(thumbnail['src'])\n    else:\n        thumbnails_urls.append(\"Thumbnail not found\")\n\n# Print the extracted thumbnail URLs\nfor index, thumbnail_url in enumerate(thumbnails_urls, 1):\n    print(f\"Thumbnail URL for Video {index}: {thumbnail_url}\")\n```\n\nThis code will extract and print the URLs of the video thumbnails for the first five videos from the YouTube channel.\n\n### Q3. Extract the title of the first five videos:\n\n```python\nimport requests\nfrom bs4 import BeautifulSoup\n\n# Send a GET request to the YouTube URL\nurl = \"https://www.youtube.com/@PW-Foundation/videos\"\nresponse = requests.get(url)\n\n# Parse the HTML content\nsoup = BeautifulSoup(response.text, 'html.parser')\n\n# Find all video elements\nvideo_elements = soup.find_all('a', class_='yt-simple-endpoint style-scope ytd-grid-video-renderer', limit=5)\n\n# Initialize list to store titles\ntitles = []\n\n# Extract titles\nfor video in video_elements:\n    # Extract video title\n    title = video.find('a', class_='yt-simple-endpoint style-scope yt-formatted-string')\n    if title:\n        titles.append(title.text)\n    else:\n        titles.append(\"Title not found\")\n\n# Print the extracted titles\nfor index, title in enumerate(titles, 1):\n    print(f\"Title for Video {index}: {title}\")\n```\n\nThis code will extract and print the titles of the first five videos from the YouTube channel.\n\n### Q4. Extract the number of views of the first five videos:\n\n```python\nimport requests\nfrom bs4 import BeautifulSoup\n\n# Send a GET request to the YouTube URL\nurl = \"https://www.youtube.com/@PW-Foundation/videos\"\nresponse = requests.get(url)\n\n# Parse the HTML content\nsoup = BeautifulSoup(response.text, 'html.parser')\n\n# Find all video elements\nvideo_elements = soup.find_all('a', class_='yt-simple-endpoint style-scope ytd-grid-video-renderer', limit=5)\n\n# Initialize list to store view counts\nviews = []\n\n# Extract view counts\nfor video in video_elements:\n    # Extract video views\n    view_count = video.find('span', class_='style-scope ytd-grid-video-renderer')\n    if view_count:\n        views.append(view_count.text)\n    else:\n        views.append(\"Views not found\")\n\n# Print the extracted view counts\nfor index, view_count in enumerate(views, 1):\n    print(f\"Views for Video {index}: {view_count}\")\n```\n\nThis code will extract and print the number of views of the first five videos from the YouTube channel.\n\n### Q5. Extract the time of posting of the video for the first five videos:\n\n```python\nimport requests\nfrom bs4 import BeautifulSoup\n\n# Send a GET request to the YouTube URL\nurl = \"https://www.youtube.com/@PW-Foundation/videos\"\nresponse = requests.get(url)\n\n# Parse the HTML content\nsoup = BeautifulSoup(response.text, 'html.parser')\n\n# Find all video elements\nvideo_elements = soup.find_all('a', class_='yt-simple-endpoint style-scope ytd-grid-video-renderer', limit=5)\n\n# Initialize list to store post times\npost_times = []\n\n# Extract post times\nfor video in video_elements:\n    # Extract video posting time\n    post_time = video.find('span', class_='style-scope ytd-grid-video-renderer')\n    if post_time:\n        post_times.append(post_time.text)\n    else:\n        post_times.append(\"Post time not found\")\n\n# Print the extracted post times\nfor index, post_time in enumerate(post_times, 1):\n    print(f\"Post Time for Video {index}: {post_time}\")\n```\n\nThis code will extract and print the time of posting of the first five videos from the YouTube channel.",
      "metadata": {
        "trusted": true
      },
      "outputs": [],
      "execution_count": null
    }
  ]
}
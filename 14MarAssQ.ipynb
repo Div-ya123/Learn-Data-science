{
  "metadata": {
    "kernelspec": {
      "name": "python",
      "display_name": "Python (Pyodide)",
      "language": "python"
    },
    "language_info": {
      "codemirror_mode": {
        "name": "python",
        "version": 3
      },
      "file_extension": ".py",
      "mimetype": "text/x-python",
      "name": "python",
      "nbconvert_exporter": "python",
      "pygments_lexer": "ipython3",
      "version": "3.8"
    },
    "widgets": {
      "application/vnd.jupyter.widget-state+json": {
        "version_major": 2,
        "version_minor": 0,
        "state": {}
      }
    }
  },
  "nbformat_minor": 4,
  "nbformat": 4,
  "cells": [
    {
      "cell_type": "code",
      "source": "Q1. Write a Python function that takes in two arrays of data and calculates the F-value for a variance ratio\ntest. The function should return the F-value and the corresponding p-value for the test.\nQ2. Given a significance level of 0.05 and the degrees of freedom for the numerator and denominator of an\nF-distribution, write a Python function that returns the critical F-value for a two-tailed test.\nQ3. Write a Python program that generates random samples from two normal distributions with known\n\nvariances and uses an F-test to determine if the variances are equal. The program should output the F-\nvalue, degrees of freedom, and p-value for the test.\n\nQ4.The variances of two populations are known to be 10 and 15. A sample of 12 observations is taken from\neach population. Conduct an F-test at the 5% significance level to determine if the variances are\nsignificantly different.\nQ5. A manufacturer claims that the variance of the diameter of a certain product is 0.005. A sample of 25\nproducts is taken, and the sample variance is found to be 0.006. Conduct an F-test at the 1% significance\nlevel to determine if the claim is justified.\nQ6. Write a Python function that takes in the degrees of freedom for the numerator and denominator of an\nF-distribution and calculates the mean and variance of the distribution. The function should return the\nmean and variance as a tuple.\nQ7. A random sample of 10 measurements is taken from a normal population with unknown variance. The\nsample variance is found to be 25. Another random sample of 15 measurements is taken from another\nnormal population with unknown variance, and the sample variance is found to be 20. Conduct an F-test\nat the 10% significance level to determine if the variances are significantly different.\nQ8. The following data represent the waiting times in minutes at two different restaurants on a Saturday\nnight: Restaurant A: 24, 25, 28, 23, 22, 20, 27; Restaurant B: 31, 33, 35, 30, 32, 36. Conduct an F-test at the 5%\nsignificance level to determine if the variances are significantly different.\nQ9. The following data represent the test scores of two groups of students: Group A: 80, 85, 90, 92, 87, 83;\nGroup B: 75, 78, 82, 79, 81, 84. Conduct an F-test at the 1% significance level to determine if the variances\nare significantly different.",
      "metadata": {
        "trusted": true
      },
      "outputs": [],
      "execution_count": null
    },
    {
      "cell_type": "code",
      "source": "\n\n### Q1. Python Function for Variance Ratio Test (F-test)\n\n```python\nfrom scipy.stats import f\n\ndef f_test(data1, data2):\n    # Calculate variances\n    var1 = np.var(data1, ddof=1)\n    var2 = np.var(data2, ddof=1)\n    \n    # Calculate F-value and p-value\n    f_value = var1 / var2 if var1 > var2 else var2 / var1\n    df1 = len(data1) - 1\n    df2 = len(data2) - 1\n    p_value = f.sf(f_value, df1, df2) * 2  # Multiply by 2 for two-tailed test\n    \n    return f_value, p_value\n\n# Example usage\ndata1 = [10, 12, 14, 16, 18]\ndata2 = [8, 11, 13, 15, 17]\nf_value, p_value = f_test(data1, data2)\nprint(\"F-value:\", f_value)\nprint(\"P-value:\", p_value)\n```\n\n### Q2. Python Function for Critical F-value Calculation\n\n```python\ndef critical_f_value(alpha, dfn, dfd):\n    return f.ppf(1 - alpha / 2, dfn, dfd)\n\n# Example usage\nalpha = 0.05\ndfn = 3  # Degrees of freedom for numerator\ndfd = 10  # Degrees of freedom for denominator\ncritical_f = critical_f_value(alpha, dfn, dfd)\nprint(\"Critical F-value:\", critical_f)\n```\n\n### Q3. Python Program for F-test on Random Samples\n\n```python\ndef f_test_variances(data1, data2):\n    var1 = np.var(data1, ddof=1)\n    var2 = np.var(data2, ddof=1)\n    \n    f_value = var1 / var2 if var1 > var2 else var2 / var1\n    df1 = len(data1) - 1\n    df2 = len(data2) - 1\n    p_value = f.sf(f_value, df1, df2) * 2  # Two-tailed test\n    \n    return f_value, df1, df2, p_value\n\n# Example usage\nnp.random.seed(0)\nsample1 = np.random.normal(10, 2, 50)  # Mean=10, Var=4\nsample2 = np.random.normal(10, 3, 50)  # Mean=10, Var=9\nf_value, df1, df2, p_value = f_test_variances(sample1, sample2)\nprint(\"F-value:\", f_value)\nprint(\"Degrees of Freedom:\", df1, df2)\nprint(\"P-value:\", p_value)\n```\n\n### Q4. F-test for Known Variances and Sample Size\n\n```python\nvar1 = 10\nvar2 = 15\nn1 = 12\nn2 = 12\n\nf_value = var1 / var2 if var1 > var2 else var2 / var1\ndf1 = n1 - 1\ndf2 = n2 - 1\np_value = f.sf(f_value, df1, df2) * 2  # Two-tailed test\n\nalpha = 0.05\nif p_value < alpha:\n    print(\"Reject the null hypothesis: Variances are significantly different.\")\nelse:\n    print(\"Fail to reject the null hypothesis: Variances are not significantly different.\")\n```\n\n### Q5. F-test for Claimed Variance of Product Diameter\n\n```python\nvar_claimed = 0.005\nn = 25\nvar_sample = 0.006\n\nf_value = var_claimed / var_sample if var_claimed > var_sample else var_sample / var_claimed\ndf1 = n - 1\ndf2 = n - 1\np_value = f.sf(f_value, df1, df2) * 2  # Two-tailed test\n\nalpha = 0.01\nif p_value < alpha:\n    print(\"Reject the null hypothesis: Claimed variance is not justified.\")\nelse:\n    print(\"Fail to reject the null hypothesis: Claimed variance is justified.\")\n```\n\n\n\n### Q6. Python Function to Calculate Mean and Variance of F-distribution\n\n```python\ndef f_distribution_stats(dfn, dfd):\n    mean = dfd / (dfd - 2) if dfd > 2 else np.inf  # Mean of F-distribution\n    variance = (2 * dfd**2 * (dfn + dfd - 2)) / (dfn * (dfd - 2)**2 * (dfd - 4)) if dfd > 4 else np.inf  # Variance of F-distribution\n    return mean, variance\n\n# Example usage\ndfn = 5  # Degrees of freedom for numerator\ndfd = 10  # Degrees of freedom for denominator\nmean, variance = f_distribution_stats(dfn, dfd)\nprint(\"Mean of F-distribution:\", mean)\nprint(\"Variance of F-distribution:\", variance)\n```\n\n### Q7. F-test for Unknown Variances from Two Samples\n\n```python\ndef f_test_unknown_variances(var1, var2, n1, n2, alpha):\n    f_value = var1 / var2 if var1 > var2 else var2 / var1\n    df1 = n1 - 1\n    df2 = n2 - 1\n    p_value = f.sf(f_value, df1, df2) * 2  # Two-tailed test\n    \n    if p_value < alpha:\n        return f_value, df1, df2, p_value, \"Reject the null hypothesis: Variances are significantly different.\"\n    else:\n        return f_value, df1, df2, p_value, \"Fail to reject the null hypothesis: Variances are not significantly different.\"\n\n# Example usage\nvariance1 = 25\nvariance2 = 20\nn1 = 10\nn2 = 15\nalpha = 0.1\nresult = f_test_unknown_variances(variance1, variance2, n1, n2, alpha)\nprint(\"F-value:\", result[0])\nprint(\"Degrees of Freedom:\", result[1], result[2])\nprint(\"P-value:\", result[3])\nprint(result[4])\n```\n\n### Q8. F-test for Waiting Times at Restaurants\n\n```python\nimport numpy as np\nfrom scipy.stats import f\n\ndata_restaurant_A = [24, 25, 28, 23, 22, 20, 27]\ndata_restaurant_B = [31, 33, 35, 30, 32, 36]\n\nvariance_A = np.var(data_restaurant_A, ddof=1)\nvariance_B = np.var(data_restaurant_B, ddof=1)\n\nf_value = variance_A / variance_B if variance_A > variance_B else variance_B / variance_A\ndf1 = len(data_restaurant_A) - 1\ndf2 = len(data_restaurant_B) - 1\np_value = f.sf(f_value, df1, df2) * 2  # Two-tailed test\n\nalpha = 0.05\nif p_value < alpha:\n    print(\"Reject the null hypothesis: Variances are significantly different.\")\nelse:\n    print(\"Fail to reject the null hypothesis: Variances are not significantly different.\")\n```\n\n### Q9. F-test for Test Scores of Two Groups\n\n```python\ngroup_A = [80, 85, 90, 92, 87, 83]\ngroup_B = [75, 78, 82, 79, 81, 84]\n\nvariance_A = np.var(group_A, ddof=1)\nvariance_B = np.var(group_B, ddof=1)\n\nf_value = variance_A / variance_B if variance_A > variance_B else variance_B / variance_A\ndf1 = len(group_A) - 1\ndf2 = len(group_B) - 1\np_value = f.sf(f_value, df1, df2) * 2  # Two-tailed test\n\nalpha = 0.01\nif p_value < alpha:\n    print(\"Reject the null hypothesis: Variances are significantly different.\")\nelse:\n    print(\"Fail to reject the null hypothesis: Variances are not significantly different.\")\n```\n\nThese code snippets should help you answer each question effectively. Let me know if you need further explanation or assistance!",
      "metadata": {
        "trusted": true
      },
      "outputs": [],
      "execution_count": null
    }
  ]
}
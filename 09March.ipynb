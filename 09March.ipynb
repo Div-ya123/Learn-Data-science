{
  "metadata": {
    "kernelspec": {
      "name": "python",
      "display_name": "Python (Pyodide)",
      "language": "python"
    },
    "language_info": {
      "codemirror_mode": {
        "name": "python",
        "version": 3
      },
      "file_extension": ".py",
      "mimetype": "text/x-python",
      "name": "python",
      "nbconvert_exporter": "python",
      "pygments_lexer": "ipython3",
      "version": "3.8"
    },
    "widgets": {
      "application/vnd.jupyter.widget-state+json": {
        "version_major": 2,
        "version_minor": 0,
        "state": {}
      }
    }
  },
  "nbformat_minor": 4,
  "nbformat": 4,
  "cells": [
    {
      "cell_type": "code",
      "source": "Q1: What are the Probability Mass Function (PMF) and Probability Density Function (PDF)? Explain with\nan example.\nQ2: What is Cumulative Density Function (CDF)? Explain with an example. Why CDF is used?\nQ3: What are some examples of situations where the normal distribution might be used as a model?\nExplain how the parameters of the normal distribution relate to the shape of the distribution.\nQ4: Explain the importance of Normal Distribution. Give a few real-life examples of Normal\nDistribution.\nQ5: What is Bernaulli Distribution? Give an Example. What is the difference between Bernoulli\nDistribution and Binomial Distribution?\nQ6. Consider a dataset with a mean of 50 and a standard deviation of 10. If we assume that the dataset\nis normally distributed, what is the probability that a randomly selected observation will be greater\nthan 60? Use the appropriate formula and show your calculations.\nQ7: Explain uniform Distribution with an example.\nQ8: What is the z score? State the importance of the z score.\nQ9: What is Central Limit Theorem? State the significance of the Central Limit Theorem.\nQ10: State the assumptions of the Central Limit Theorem.",
      "metadata": {
        "trusted": true
      },
      "outputs": [],
      "execution_count": null
    },
    {
      "cell_type": "code",
      "source": "### Q1: What are the Probability Mass Function (PMF) and Probability Density Function (PDF)? Explain with an example.\n\n- **Probability Mass Function (PMF)**: The PMF applies to discrete random variables and gives the probability that a discrete random variable is exactly equal to some value. For a discrete random variable \\( X \\) with possible values \\( x_1, x_2, \\ldots, x_k \\), the PMF \\( P(X = x) \\) gives the probability of each value.\n\n  **Example**: Suppose \\( X \\) is the outcome of rolling a fair six-sided die. The PMF is:\n  \\[\n  P(X = x) = \\frac{1}{6} \\quad \\text{for} \\quad x \\in \\{1, 2, 3, 4, 5, 6\\}\n  \\]\n\n- **Probability Density Function (PDF)**: The PDF applies to continuous random variables and describes the likelihood of the random variable to take on a particular value. The PDF \\( f(x) \\) must satisfy:\n  \\[\n  P(a \\leq X \\leq b) = \\int_{a}^{b} f(x) \\, dx\n  \\]\n  and the total area under the PDF curve is 1.\n\n  **Example**: The height of adult men in a country might be modeled with a normal distribution with mean \\( \\mu \\) and standard deviation \\( \\sigma \\). The PDF is given by:\n  \\[\n  f(x) = \\frac{1}{\\sigma \\sqrt{2\\pi}} e^{-\\frac{(x-\\mu)^2}{2\\sigma^2}}\n  \\]\n\n### Q2: What is Cumulative Density Function (CDF)? Explain with an example. Why CDF is used?\n\nThe Cumulative Density Function (CDF) of a random variable \\( X \\) is the function that gives the probability that \\( X \\) will take a value less than or equal to \\( x \\). For a random variable \\( X \\), the CDF \\( F(x) \\) is defined as:\n\\[\nF(x) = P(X \\leq x)\n\\]\n\n**Example**: Consider the CDF of a standard normal distribution:\n\\[\nF(x) = \\int_{-\\infty}^{x} \\frac{1}{\\sqrt{2\\pi}} e^{-\\frac{t^2}{2}} \\, dt\n\\]\n\n**Why CDF is used**:\n- It provides a complete description of the distribution of a random variable.\n- It helps in determining probabilities for intervals.\n- It is useful for defining properties of distributions like medians and quantiles.\n\n### Q3: What are some examples of situations where the normal distribution might be used as a model? Explain how the parameters of the normal distribution relate to the shape of the distribution.\n\n**Examples**:\n1. **Heights of individuals**: Heights tend to follow a normal distribution.\n2. **Test scores**: Standardized test scores are often normally distributed.\n3. **Measurement errors**: Errors in measurements in experiments often follow a normal distribution.\n\n**Parameters**:\n- **Mean (\\(\\mu\\))**: Determines the center of the distribution. The peak of the bell curve is at \\( \\mu \\).\n- **Standard Deviation (\\(\\sigma\\))**: Determines the spread of the distribution. A larger \\( \\sigma \\) results in a wider and flatter curve, while a smaller \\( \\sigma \\) results in a narrower and taller curve.\n\n### Q4: Explain the importance of Normal Distribution. Give a few real-life examples of Normal Distribution.\n\n**Importance**:\n- The normal distribution is fundamental in statistics because of the Central Limit Theorem, which states that the distribution of the sum (or average) of a large number of independent, identically distributed variables tends toward a normal distribution, regardless of the original distribution of the variables.\n- It is used in many statistical methods and hypothesis testing.\n\n**Real-life examples**:\n1. **IQ scores**: IQ scores are designed to follow a normal distribution with a mean of 100 and a standard deviation of 15.\n2. **Blood pressure**: The systolic blood pressure of a population is often normally distributed.\n3. **Errors in physical measurements**: The errors in measurements in physical sciences are often normally distributed.\n\n### Q5: What is Bernoulli Distribution? Give an Example. What is the difference between Bernoulli Distribution and Binomial Distribution?\n\n**Bernoulli Distribution**: It is a discrete distribution with only two possible outcomes: success (1) and failure (0), with a single trial. The probability of success is \\( p \\) and the probability of failure is \\( 1-p \\).\n\n**Example**: Flipping a coin where success is getting a head (\\( p = 0.5 \\)).\n\n**Difference**:\n- **Bernoulli Distribution**: Describes a single trial with two possible outcomes.\n- **Binomial Distribution**: Describes the number of successes in \\( n \\) independent Bernoulli trials, each with the same probability of success \\( p \\).\n\n### Q6. Consider a dataset with a mean of 50 and a standard deviation of 10. If we assume that the dataset is normally distributed, what is the probability that a randomly selected observation will be greater than 60? Use the appropriate formula and show your calculations.\n\nTo find this probability, we first calculate the z-score for \\( x = 60 \\):\n\\[\nz = \\frac{x - \\mu}{\\sigma} = \\frac{60 - 50}{10} = 1\n\\]\n\nUsing the standard normal distribution table or a calculator, the probability of \\( Z \\) being less than 1 is 0.8413. Therefore, the probability of \\( Z \\) being greater than 1 is:\n\\[\nP(X > 60) = 1 - P(Z \\leq 1) = 1 - 0.8413 = 0.1587\n\\]\n\n### Q7: Explain Uniform Distribution with an example.\n\n**Uniform Distribution**: A distribution where all outcomes are equally likely within a certain range. For a continuous uniform distribution on the interval \\([a, b]\\), the PDF is:\n\\[\nf(x) = \\frac{1}{b-a} \\quad \\text{for} \\quad a \\leq x \\leq b\n\\]\n\n**Example**: Rolling a fair die. Each outcome (1, 2, 3, 4, 5, 6) has an equal probability of \\( \\frac{1}{6} \\).\n\n### Q8: What is the z-score? State the importance of the z-score.\n\n**Z-score**: The z-score indicates how many standard deviations an element is from the mean. It is calculated as:\n\\[\nz = \\frac{x - \\mu}{\\sigma}\n\\]\n\n**Importance**:\n- It standardizes different datasets, making them comparable.\n- It is used to determine probabilities and percentile ranks in the standard normal distribution.\n- It helps in identifying outliers.\n\n### Q9: What is the Central Limit Theorem? State the significance of the Central Limit Theorem.\n\n**Central Limit Theorem (CLT)**: The CLT states that the distribution of the sample mean (or sum) of a large number of independent, identically distributed random variables approaches a normal distribution, regardless of the original distribution of the variables, provided the sample size is sufficiently large.\n\n**Significance**:\n- It allows the use of normal distribution techniques to make inferences about population parameters even when the population distribution is not normal.\n- It underpins many statistical methods, including hypothesis testing and confidence intervals.\n\n### Q10: State the assumptions of the Central Limit Theorem.\n\n**Assumptions**:\n1. **Independence**: The random variables must be independent of each other.\n2. **Identical Distribution**: The random variables should be identically distributed, meaning they come from the same probability distribution with the same mean and variance.\n3. **Sample Size**: The sample size should be sufficiently large (usually \\( n \\geq 30 \\) is considered adequate, but it can vary depending on the distribution).",
      "metadata": {
        "trusted": true
      },
      "outputs": [],
      "execution_count": null
    }
  ]
}
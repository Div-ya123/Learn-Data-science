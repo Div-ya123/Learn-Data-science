{
  "metadata": {
    "kernelspec": {
      "name": "python",
      "display_name": "Python (Pyodide)",
      "language": "python"
    },
    "language_info": {
      "codemirror_mode": {
        "name": "python",
        "version": 3
      },
      "file_extension": ".py",
      "mimetype": "text/x-python",
      "name": "python",
      "nbconvert_exporter": "python",
      "pygments_lexer": "ipython3",
      "version": "3.8"
    },
    "widgets": {
      "application/vnd.jupyter.widget-state+json": {
        "version_major": 2,
        "version_minor": 0,
        "state": {}
      }
    }
  },
  "nbformat_minor": 4,
  "nbformat": 4,
  "cells": [
    {
      "cell_type": "code",
      "source": "Q1. What is the Probability density function?\nQ2. What are the types of Probability distribution?\nQ3. Write a Python function to calculate the probability density function of a normal distribution with\ngiven mean and standard deviation at a given point.\nQ4. What are the properties of Binomial distribution? Give two examples of events where binomial\ndistribution can be applied.\nQ5. Generate a random sample of size 1000 from a binomial distribution with probability of success 0.4\nand plot a histogram of the results using matplotlib.\nQ6. Write a Python function to calculate the cumulative distribution function of a Poisson distribution\nwith given mean at a given point.\nQ7. How Binomial distribution different from Poisson distribution?\nQ8. Generate a random sample of size 1000 from a Poisson distribution with mean 5 and calculate the\nsample mean and variance.\nQ9. How mean and variance are related in Binomial distribution and Poisson distribution?\nQ10. In normal distribution with respect to mean position, where does the least frequent data appear?",
      "metadata": {
        "trusted": true
      },
      "outputs": [],
      "execution_count": null
    },
    {
      "cell_type": "code",
      "source": "Solutions\n\n### Q1. What is the Probability Density Function?\n\nA Probability Density Function (PDF) is a function that describes the likelihood of a continuous random variable to take on a particular value. The PDF is non-negative for all possible values of the random variable and the area under the PDF curve over the entire range of possible values is equal to 1. For a random variable \\( X \\), the PDF is denoted as \\( f(x) \\) and satisfies:\n\\[ P(a \\leq X \\leq b) = \\int_{a}^{b} f(x) \\, dx \\]\n\n### Q2. What are the types of Probability Distribution?\n\nThe types of probability distributions can be broadly categorized into:\n\n1. **Discrete Probability Distributions**: These describe the probability of outcomes of a discrete random variable. Examples include:\n   - Binomial Distribution\n   - Poisson Distribution\n   - Geometric Distribution\n\n2. **Continuous Probability Distributions**: These describe the probability of outcomes of a continuous random variable. Examples include:\n   - Normal Distribution\n   - Exponential Distribution\n   - Uniform Distribution\n\n### Q3. Write a Python function to calculate the probability density function of a normal distribution with given mean and standard deviation at a given point.\n\n```python\nimport math\n\ndef normal_pdf(x, mean, std_dev):\n    return (1 / (std_dev * math.sqrt(2 * math.sqrt(math.pi)))) * math.exp(-0.5 * ((x - mean) / std_dev) ** 2)\n\n# Example usage\nmean = 0\nstd_dev = 1\nx = 1\npdf_value = normal_pdf(x, mean, std_dev)\nprint(f\"The PDF value of a normal distribution at x={x} is {pdf_value}\")\n```\n\n### Q4. What are the properties of Binomial Distribution? Give two examples of events where binomial distribution can be applied.\n\nProperties of Binomial Distribution:\n1. The number of trials \\( n \\) is fixed.\n2. Each trial is independent.\n3. Each trial has only two possible outcomes: success or failure.\n4. The probability of success \\( p \\) is the same for each trial.\n5. The random variable \\( X \\) representing the number of successes in \\( n \\) trials follows a binomial distribution.\n\nExamples:\n1. Tossing a coin \\( n \\) times to count the number of heads (successes).\n2. Conducting quality control tests on \\( n \\) items in a production line to determine the number of defective items (successes).\n\n### Q5. Generate a random sample of size 1000 from a binomial distribution with probability of success 0.4 and plot a histogram of the results using matplotlib.\n\n```python\nimport numpy as np\nimport matplotlib.pyplot as plt\n\n# Generate a random sample from a binomial distribution\nn = 10  # Number of trials\np = 0.4  # Probability of success\nsample_size = 1000\n\nsample = np.random.binomial(n, p, sample_size)\n\n# Plot histogram\nplt.hist(sample, bins=range(n+2), edgecolor='black', alpha=0.7)\nplt.title('Histogram of Binomial Distribution Sample')\nplt.xlabel('Number of Successes')\nplt.ylabel('Frequency')\nplt.show()\n```\n\n### Q6. Write a Python function to calculate the cumulative distribution function of a Poisson distribution with given mean at a given point.\n\n```python\nfrom scipy.stats import poisson\n\ndef poisson_cdf(mean, k):\n    return poisson.cdf(k, mean)\n\n# Example usage\nmean = 3\nk = 5\ncdf_value = poisson_cdf(mean, k)\nprint(f\"The CDF value of a Poisson distribution with mean={mean} at k={k} is {cdf_value}\")\n```\n\n### Q7. How is Binomial distribution different from Poisson distribution?\n\n1. **Definition**:\n   - **Binomial Distribution**: Models the number of successes in a fixed number of independent Bernoulli trials with the same probability of success.\n   - **Poisson Distribution**: Models the number of events occurring within a fixed interval of time or space, assuming that these events occur with a constant mean rate and independently of the time since the last event.\n\n2. **Parameters**:\n   - **Binomial**: Number of trials \\( n \\) and probability of success \\( p \\).\n   - **Poisson**: Average rate \\( \\lambda \\) (mean number of events in the given interval).\n\n3. **Usage**:\n   - **Binomial**: Used when the number of trials is fixed and each trial is independent with the same probability of success.\n   - **Poisson**: Used for modeling the number of occurrences of an event in a continuous interval when the events occur independently and the mean rate is constant.\n\n### Q8. Generate a random sample of size 1000 from a Poisson distribution with mean 5 and calculate the sample mean and variance.\n\n```python\nimport numpy as np\n\n# Generate random sample\nmean = 5\nsample_size = 1000\nsample = np.random.poisson(mean, sample_size)\n\n# Calculate sample mean and variance\nsample_mean = np.mean(sample)\nsample_variance = np.var(sample)\n\nprint(f\"Sample Mean: {sample_mean}\")\nprint(f\"Sample Variance: {sample_variance}\")\n```\n\n### Q9. How are mean and variance related in Binomial distribution and Poisson distribution?\n\n- **Binomial Distribution**: For a binomial distribution with parameters \\( n \\) (number of trials) and \\( p \\) (probability of success), the mean \\( \\mu \\) and variance \\( \\sigma^2 \\) are:\n  \\[\n  \\mu = np\n  \\]\n  \\[\n  \\sigma^2 = np(1-p)\n  \\]\n\n- **Poisson Distribution**: For a Poisson distribution with parameter \\( \\lambda \\) (mean rate), the mean \\( \\mu \\) and variance \\( \\sigma^2 \\) are:\n  \\[\n  \\mu = \\lambda\n  \\]\n  \\[\n  \\sigma^2 = \\lambda\n  \\]\n\n### Q10. In normal distribution with respect to mean position, where does the least frequent data appear?\n\nIn a normal distribution, the least frequent data appear in the tails of the distribution, far from the mean. Specifically, data points that are several standard deviations away from the mean are the least frequent.",
      "metadata": {
        "trusted": true
      },
      "outputs": [],
      "execution_count": null
    }
  ]
}
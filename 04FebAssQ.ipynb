{
  "metadata": {
    "kernelspec": {
      "name": "python",
      "display_name": "Python (Pyodide)",
      "language": "python"
    },
    "language_info": {
      "codemirror_mode": {
        "name": "python",
        "version": 3
      },
      "file_extension": ".py",
      "mimetype": "text/x-python",
      "name": "python",
      "nbconvert_exporter": "python",
      "pygments_lexer": "ipython3",
      "version": "3.8"
    },
    "widgets": {
      "application/vnd.jupyter.widget-state+json": {
        "version_major": 2,
        "version_minor": 0,
        "state": {}
      }
    }
  },
  "nbformat_minor": 4,
  "nbformat": 4,
  "cells": [
    {
      "cell_type": "code",
      "source": "Q1. Create a python program to sort the given list of tuples based on integer value using a\nlambda function.\n[('Sachin Tendulkar', 34357), ('Ricky Ponting', 27483), ('Jack Kallis', 25534), ('Virat Kohli', 24936)]\nQ2. Write a Python Program to find the squares of all the numbers in the given list of integers using\nlambda and map functions.\n[1, 2, 3, 4, 5, 6, 7, 8, 9, 10]\nQ3. Write a python program to convert the given list of integers into a tuple of strings. Use map and\nlambda functions\nGiven String: [1, 2, 3, 4, 5, 6, 7, 8, 9, 10]\nExpected output: ('1', '2', '3', '4', '5', '6', '7', '8', '9', '10')\nQ4. Write a python program using reduce function to compute the product of a list containing numbers\nfrom 1 to 25.\nQ5. Write a python program to filter the numbers in a given list that are divisible by 2 and 3 using the\nfilter function.\n[2, 3, 6, 9, 27, 60, 90, 120, 55, 46]\nQ6. Write a python program to find palindromes in the given list of strings using lambda and filter\nfunction.\n['python', 'php', 'aba', 'radar', 'level']",
      "metadata": {
        "trusted": true
      },
      "outputs": [],
      "execution_count": null
    },
    {
      "cell_type": "code",
      "source": "Solution :\n\nQ1. Sorting the list of tuples based on integer value using a lambda function:\n```python\ndata = [('Sachin Tendulkar', 34357), ('Ricky Ponting', 27483), ('Jack Kallis', 25534), ('Virat Kohli', 24936)]\nsorted_data = sorted(data, key=lambda x: x[1])\nprint(sorted_data)\n```\n\nQ2. Finding squares of all numbers in the given list of integers using lambda and map functions:\n```python\nnumbers = [1, 2, 3, 4, 5, 6, 7, 8, 9, 10]\nsquares = list(map(lambda x: x**2, numbers))\nprint(squares)\n```\n\nQ3. Converting the given list of integers into a tuple of strings using map and lambda functions:\n```python\nnumbers = [1, 2, 3, 4, 5, 6, 7, 8, 9, 10]\nstrings_tuple = tuple(map(lambda x: str(x), numbers))\nprint(strings_tuple)\n```\n\nQ4. Computing the product of a list containing numbers from 1 to 25 using the reduce function:\n```python\nfrom functools import reduce\n\nnumbers = list(range(1, 26))\nproduct = reduce(lambda x, y: x * y, numbers)\nprint(product)\n```\n\nQ5. Filtering numbers in a given list that are divisible by 2 and 3 using the filter function:\n```python\nnumbers = [2, 3, 6, 9, 27, 60, 90, 120, 55, 46]\nfiltered_numbers = list(filter(lambda x: x % 2 == 0 and x % 3 == 0, numbers))\nprint(filtered_numbers)\n```\n\nQ6. Finding palindromes in the given list of strings using lambda and filter function:\n```python\nwords = ['python', 'php', 'aba', 'radar', 'level']\npalindromes = list(filter(lambda x: x == x[::-1], words))\nprint(palindromes)\n```\n\nThese programs should give you the desired outputs!",
      "metadata": {
        "trusted": true
      },
      "outputs": [],
      "execution_count": null
    }
  ]
}
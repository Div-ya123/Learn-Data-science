{
  "metadata": {
    "kernelspec": {
      "name": "python",
      "display_name": "Python (Pyodide)",
      "language": "python"
    },
    "language_info": {
      "codemirror_mode": {
        "name": "python",
        "version": 3
      },
      "file_extension": ".py",
      "mimetype": "text/x-python",
      "name": "python",
      "nbconvert_exporter": "python",
      "pygments_lexer": "ipython3",
      "version": "3.8"
    },
    "widgets": {
      "application/vnd.jupyter.widget-state+json": {
        "version_major": 2,
        "version_minor": 0,
        "state": {}
      }
    }
  },
  "nbformat_minor": 4,
  "nbformat": 4,
  "cells": [
    {
      "cell_type": "code",
      "source": "### Q1. Create a Pandas Series that contains the following data: 4, 8, 15, 16, 23, and 42. Then, print the series.\n\n```python\nimport pandas as pd\n\n# Creating a Pandas Series\ndata = [4, 8, 15, 16, 23, 42]\nseries = pd.Series(data)\n\n# Printing the series\nprint(series)\n```\n\n### Q2. Create a variable of list type containing 10 elements in it, and apply pandas.Series function on the variable and print it.\n\n```python\nimport pandas as pd\n\n# Creating a list with 10 elements\ndata_list = [1, 2, 3, 4, 5, 6, 7, 8, 9, 10]\n\n# Converting the list to a Pandas Series\nseries_from_list = pd.Series(data_list)\n\n# Printing the series\nprint(series_from_list)\n```\n\n### Q3. Create a Pandas DataFrame that contains the following data and print the DataFrame.\n\nAssuming the data is:\n- Names: ['John', 'Jane', 'Jim', 'Joan']\n- Ages: [25, 30, 35, 40]\n- Occupations: ['Engineer', 'Doctor', 'Teacher', 'Lawyer']\n\n```python\nimport pandas as pd\n\n# Creating a dictionary with the data\ndata = {\n    'Name': ['John', 'Jane', 'Jim', 'Joan'],\n    'Age': [25, 30, 35, 40],\n    'Occupation': ['Engineer', 'Doctor', 'Teacher', 'Lawyer']\n}\n\n# Creating a DataFrame from the dictionary\ndf = pd.DataFrame(data)\n\n# Printing the DataFrame\nprint(df)\n```\n\n### Q4. What is ‘DataFrame’ in pandas and how is it different from pandas.Series? Explain with an example.\n\nA **DataFrame** in pandas is a two-dimensional labeled data structure with columns of potentially different types. It is similar to a table in a database or an Excel spreadsheet.\n\nA **Series** is a one-dimensional labeled array capable of holding any data type. It is like a single column of data.\n\n**Example:**\n\n```python\nimport pandas as pd\n\n# Creating a Pandas Series\nseries = pd.Series([1, 2, 3, 4, 5])\nprint(\"Pandas Series:\")\nprint(series)\n\n# Creating a Pandas DataFrame\ndata = {\n    'Column1': [1, 2, 3],\n    'Column2': ['A', 'B', 'C']\n}\ndf = pd.DataFrame(data)\nprint(\"\\nPandas DataFrame:\")\nprint(df)\n```\n\n### Q5. What are some common functions you can use to manipulate data in a Pandas DataFrame? Can you give an example of when you might use one of these functions?\n\nSome common functions to manipulate data in a Pandas DataFrame include:\n- `head()`: to view the first few rows of the DataFrame.\n- `tail()`: to view the last few rows of the DataFrame.\n- `describe()`: to get a statistical summary of the DataFrame.\n- `drop()`: to remove columns or rows.\n- `fillna()`: to fill missing values.\n- `groupby()`: to group data and perform aggregate functions.\n\n**Example:**\n\n```python\nimport pandas as pd\n\n# Creating a DataFrame\ndata = {\n    'Name': ['John', 'Jane', 'Jim', 'Joan', 'Jake'],\n    'Age': [25, 30, 35, 40, None],\n    'Occupation': ['Engineer', 'Doctor', 'Teacher', 'Lawyer', 'Nurse']\n}\ndf = pd.DataFrame(data)\n\n# Using fillna() to fill missing values\ndf['Age'] = df['Age'].fillna(df['Age'].mean())\n\n# Printing the DataFrame\nprint(df)\n```\n\n### Q6. Which of the following is mutable in nature: Series, DataFrame, Panel?\n\nBoth **Series** and **DataFrame** are mutable in nature, meaning you can change their contents after they are created. \n\n### Q7. Create a DataFrame using multiple Series. Explain with an example.\n\n**Example:**\n\n```python\nimport pandas as pd\n\n# Creating individual Series\nnames = pd.Series(['John', 'Jane', 'Jim', 'Joan'])\nages = pd.Series([25, 30, 35, 40])\noccupations = pd.Series(['Engineer', 'Doctor', 'Teacher', 'Lawyer'])\n\n# Creating a DataFrame using the Series\ndf = pd.DataFrame({\n    'Name': names,\n    'Age': ages,\n    'Occupation': occupations\n})\n\n# Printing the DataFrame\nprint(df)\n```\n\nIn this example, three Series (names, ages, and occupations) are combined to create a DataFrame, where each Series becomes a column in the DataFrame.",
      "metadata": {
        "trusted": true
      },
      "outputs": [],
      "execution_count": null
    }
  ]
}
{
  "metadata": {
    "kernelspec": {
      "name": "python",
      "display_name": "Python (Pyodide)",
      "language": "python"
    },
    "language_info": {
      "codemirror_mode": {
        "name": "python",
        "version": 3
      },
      "file_extension": ".py",
      "mimetype": "text/x-python",
      "name": "python",
      "nbconvert_exporter": "python",
      "pygments_lexer": "ipython3",
      "version": "3.8"
    },
    "widgets": {
      "application/vnd.jupyter.widget-state+json": {
        "version_major": 2,
        "version_minor": 0,
        "state": {}
      }
    }
  },
  "nbformat_minor": 4,
  "nbformat": 4,
  "cells": [
    {
      "cell_type": "code",
      "source": "Q1. Explain Class and Object with respect to Object-Oriented Programming. Give a suitable example.",
      "metadata": {
        "trusted": true
      },
      "outputs": [],
      "execution_count": null
    },
    {
      "cell_type": "code",
      "source": "Q1. Solution\n\nIn Object-Oriented Programming (OOP), the concepts of \"class\" and \"object\" are fundamental.\n\n### Class\n\nA  class  is a blueprint or template for creating objects. It defines a datatype by bundling data and methods that work on the data into one single unit. Classes encapsulate data for the object and provide methods to manipulate that data. Essentially, a class can be thought of as a blueprint for an object.\n\n### Object\n\nAn  object  is an instance of a class. When a class is defined, no memory is allocated until an object of that class is created. Objects are the concrete entities that are created using the class blueprint. Each object can have unique values to its properties (data attributes).\n\n### Example\n\nConsider a simple example of a class called `Car`.\n\n#### Class Definition\n```python\nclass Car:\n    def __init__(self, make, model, year):\n        self.make = make\n        self.model = model\n        self.year = year\n\n    def display_info(self):\n        print(f\"{self.year} {self.make} {self.model}\")\n```\n\nHere, `Car` is a class that has a constructor method (`__init__`) which initializes three attributes: `make`, `model`, and `year`. The class also has a method called `display_info` that prints the car's information.\n\n#### Creating Objects\n\nNow, let's create objects of the `Car` class.\n\n```python\n# Creating objects (instances) of the Car class\ncar1 = Car(\"Toyota\", \"Camry\", 2020)\ncar2 = Car(\"Honda\", \"Accord\", 2019)\n\n# Using the display_info method to print information about the cars\ncar1.display_info()  # Output: 2020 Toyota Camry\ncar2.display_info()  # Output: 2019 Honda Accord\n```\n\nIn this example:\n- `car1` and `car2` are objects (instances) of the class `Car`.\n- Each object has its own set of attributes (`make`, `model`, `year`) initialized with the values provided when the object was created.\n- The method `display_info` can be called on each object to print its information.\n\n### Summary\n\n-  Class : A blueprint for creating objects. Defines attributes and methods.\n-  Object : An instance of a class. Holds actual data and can use methods defined in the class.\n\nBy using classes and objects, OOP allows for more modular, reusable, and organized code.",
      "metadata": {
        "trusted": true
      },
      "outputs": [],
      "execution_count": null
    },
    {
      "cell_type": "code",
      "source": "Q2. Name the four pillars of OOPs.",
      "metadata": {
        "trusted": true
      },
      "outputs": [],
      "execution_count": null
    },
    {
      "cell_type": "code",
      "source": "Q2. Solution\n\nThe four pillars of Object-Oriented Programming (OOP) are fundamental principles that guide the design and development of OOP systems. These pillars are:\n\n1. **Encapsulation**\n2. **Inheritance**\n3. **Polymorphism**\n4. **Abstraction**\n\n### 1. Encapsulation\n\n**Encapsulation** is the principle of bundling data (attributes) and methods (functions) that operate on the data into a single unit, known as a class. It restricts direct access to some of the object's components, which is a means of preventing unintended interference and misuse of the methods and data.\n\n- **Purpose**: Protects the integrity of the data by restricting access.\n- **Implementation**: Typically done using access modifiers (e.g., private, protected, public in languages like Java and C++).\n\n**Example**:\n```python\nclass Account:\n    def __init__(self, owner, balance=0):\n        self.owner = owner\n        self.__balance = balance  # private variable\n\n    def deposit(self, amount):\n        self.__balance += amount\n\n    def withdraw(self, amount):\n        if amount <= self.__balance:\n            self.__balance -= amount\n        else:\n            print(\"Insufficient funds\")\n\n    def get_balance(self):\n        return self.__balance\n\n# Creating an object of Account\nacct = Account(\"John\", 1000)\nacct.deposit(500)\nprint(acct.get_balance())  # Output: 1500\n```\n\n### 2. Inheritance\n\n**Inheritance** is the mechanism by which one class (the child or subclass) can inherit properties and behaviors (methods) from another class (the parent or superclass). It allows for hierarchical classification and reuse of code.\n\n- **Purpose**: Promotes code reuse and establishes a natural hierarchy.\n- **Implementation**: The subclass inherits methods and attributes from the superclass.\n\n**Example**:\n```python\nclass Animal:\n    def __init__(self, name):\n        self.name = name\n\n    def speak(self):\n        pass\n\nclass Dog(Animal):\n    def speak(self):\n        return \"Woof!\"\n\nclass Cat(Animal):\n    def speak(self):\n        return \"Meow!\"\n\n# Creating objects of Dog and Cat\ndog = Dog(\"Buddy\")\ncat = Cat(\"Whiskers\")\nprint(dog.speak())  # Output: Woof!\nprint(cat.speak())  # Output: Meow!\n```\n\n### 3. Polymorphism\n\n**Polymorphism** allows objects of different classes to be treated as objects of a common superclass. It refers to the ability of different objects to respond, each in its own way, to identical messages (or method calls).\n\n- **Purpose**: Simplifies code and improves readability by allowing the same interface to be used for different underlying forms (data types).\n- **Implementation**: Achieved through method overriding (in subclasses) and method overloading (with different parameters).\n\n**Example**:\n```python\nclass Bird:\n    def fly(self):\n        print(\"Flying high!\")\n\nclass Penguin(Bird):\n    def fly(self):\n        print(\"Cannot fly, but can swim!\")\n\ndef make_it_fly(bird):\n    bird.fly()\n\n# Creating objects\nsparrow = Bird()\npenguin = Penguin()\nmake_it_fly(sparrow)  # Output: Flying high!\nmake_it_fly(penguin)  # Output: Cannot fly, but can swim!\n```\n\n### 4. Abstraction\n\n**Abstraction** is the concept of hiding the complex implementation details and showing only the essential features of the object. It helps in reducing programming complexity and effort.\n\n- **Purpose**: Simplifies the interface for interaction with the object and hides unnecessary details.\n- **Implementation**: Typically achieved through abstract classes and interfaces (in languages like Java).\n\n**Example**:\n```python\nfrom abc import ABC, abstractmethod\n\nclass Shape(ABC):\n    @abstractmethod\n    def area(self):\n        pass\n\nclass Rectangle(Shape):\n    def __init__(self, width, height):\n        self.width = width\n        self.height = height\n\n    def area(self):\n        return self.width * self.height\n\nclass Circle(Shape):\n    def __init__(self, radius):\n        self.radius = radius\n\n    def area(self):\n        return 3.14 * self.radius * self.radius\n\n# Creating objects\nrect = Rectangle(5, 10)\ncirc = Circle(7)\nprint(rect.area())  # Output: 50\nprint(circ.area())  # Output: 153.86\n```\n\nIn summary, these four pillars—Encapsulation, Inheritance, Polymorphism, and Abstraction—are the core principles that make Object-Oriented Programming a powerful paradigm for designing and developing software systems.\n",
      "metadata": {
        "trusted": true
      },
      "outputs": [],
      "execution_count": null
    },
    {
      "cell_type": "code",
      "source": "Q3. Explain why the __init__() function is used. Give a suitable example.",
      "metadata": {
        "trusted": true
      },
      "outputs": [],
      "execution_count": null
    },
    {
      "cell_type": "code",
      "source": "Q3 Solution :\n\nThe `__init__()` function in Python is a special method known as the constructor. It is automatically called when a new instance of a class is created. The primary purpose of the `__init__()` method is to initialize the object's attributes and set up the initial state of the object. \n\n### Why `__init__()` is Used\n\n1. **Initialization**: It allows you to initialize the attributes of the class with specific values when an object is created.\n2. **Automatic Call**: It ensures that any necessary setup or configuration for the object happens immediately upon creation, without needing to call additional methods explicitly.\n3. **Encapsulation**: It helps in encapsulating the setup logic within the class, keeping the object creation and initialization process clean and consistent.\n\n### Example\n\nLet's consider an example where we have a class `Person` to illustrate the use of `__init__()`.\n\n```python\nclass Person:\n    def __init__(self, name, age):\n        self.name = name  # Initialize the name attribute\n        self.age = age    # Initialize the age attribute\n\n    def greet(self):\n        print(f\"Hello, my name is {self.name} and I am {self.age} years old.\")\n\n# Creating an instance of the Person class\nperson1 = Person(\"Alice\", 30)\nperson2 = Person(\"Bob\", 25)\n\n# Using the greet method to display information about the persons\nperson1.greet()  # Output: Hello, my name is Alice and I am 30 years old.\nperson2.greet()  # Output: Hello, my name is Bob and I am 25 years old.\n```\n\n### Explanation\n\n1. **Class Definition**:\n   - The class `Person` has an `__init__()` method that takes `name` and `age` as parameters.\n   - Inside `__init__()`, the attributes `self.name` and `self.age` are initialized with the values provided when the object is created.\n\n2. **Object Creation**:\n   - When `person1` and `person2` are created, the `__init__()` method is called automatically with the provided arguments (\"Alice\", 30) and (\"Bob\", 25) respectively.\n   - The `__init__()` method initializes the attributes of the objects with these values.\n\n3. **Method Invocation**:\n   - The `greet` method uses the initialized attributes to print a greeting message that includes the person's name and age.\n\nBy using the `__init__()` method, we ensure that every `Person` object is created with a name and an age, and this setup happens automatically at the time of object creation. This makes the object instantiation process more robust and the code easier to maintain and understand.",
      "metadata": {
        "trusted": true
      },
      "outputs": [],
      "execution_count": null
    },
    {
      "cell_type": "code",
      "source": "Q4. Why self is used in OOPs?",
      "metadata": {
        "trusted": true
      },
      "outputs": [],
      "execution_count": null
    },
    {
      "cell_type": "code",
      "source": "Q4. Solution :\n\n`self` is a reference to the instance of the class. It is used to access variables and methods associated with the current object. When we define instance methods, `self` must be the first parameter, and it allows the method to refer to the instance calling the method. Here’s why `self` is important and how it is used:\n\n### Reasons for Using `self`\n\n1. **Instance Access**: `self` allows access to the attributes and methods of the instance. Each instance can have its own data, and `self` helps differentiate between these instances within the class.\n2. **Method Calls**: When you call a method on an instance, `self` refers to the specific instance that called the method, enabling the method to operate on the instance's data.\n3. **Consistency**: Using `self` provides a consistent way to write and read instance methods and variables within a class.\n4. **Attribute Assignment**: `self` is used to bind the parameters and attributes to the object. This is essential for initializing objects and assigning values to object properties.\n\n### Example\n\nLet’s consider an example of a class `Car` to illustrate the use of `self`.\n\n```python\nclass Car:\n    def __init__(self, make, model, year):\n        self.make = make      # Instance variable for make\n        self.model = model    # Instance variable for model\n        self.year = year      # Instance variable for year\n\n    def display_info(self):\n        print(f\"{self.year} {self.make} {self.model}\")\n\n# Creating instances of the Car class\ncar1 = Car(\"Toyota\", \"Camry\", 2020)\ncar2 = Car(\"Honda\", \"Accord\", 2019)\n\n# Using the display_info method to print car details\ncar1.display_info()  # Output: 2020 Toyota Camry\ncar2.display_info()  # Output: 2019 Honda Accord\n```\n\n### Explanation\n\n1. **`__init__` Method**:\n   - The `__init__` method uses `self` to assign values to instance variables (`make`, `model`, and `year`). When an instance is created, `self` refers to the new object being created, and the attributes are bound to that object.\n\n2. **Instance Methods**:\n   - The `display_info` method uses `self` to access the instance variables and print their values. When `car1.display_info()` is called, `self` refers to `car1`, and it prints the details specific to `car1`. Similarly, when `car2.display_info()` is called, `self` refers to `car2`.\n\n### Summary\n\n- `self` is essential for accessing instance variables and methods from within a class.\n- It differentiates between different instances of a class and ensures that methods operate on the correct data.\n- It is a convention and a necessary part of defining instance methods in Python.\n\nBy consistently using `self`, we ensure that the code within a class operates on the correct instance attributes, maintaining the integrity and functionality of the objects created from the class.",
      "metadata": {
        "trusted": true
      },
      "outputs": [],
      "execution_count": null
    },
    {
      "cell_type": "code",
      "source": "Q5. What is inheritance? Give an example for each type of inheritance.",
      "metadata": {
        "trusted": true
      },
      "outputs": [],
      "execution_count": null
    },
    {
      "cell_type": "code",
      "source": "Q5. Solution :\n\nInheritance is a fundamental concept in Object-Oriented Programming (OOP) that allows a class (called a subclass or derived class) to inherit attributes and methods from another class (called a superclass or base class). Inheritance promotes code reuse and establishes a natural hierarchy between classes.\n\n### Types of Inheritance\n\n1. **Single Inheritance**\n2. **Multiple Inheritance**\n3. **Multilevel Inheritance**\n4. **Hierarchical Inheritance**\n5. **Hybrid Inheritance**\n\n#### 1. Single Inheritance\n\nIn single inheritance, a subclass inherits from only one superclass.\n\n**Example**:\n```python\nclass Animal:\n    def speak(self):\n        return \"Animal speaks\"\n\nclass Dog(Animal):\n    def bark(self):\n        return \"Woof!\"\n\n# Creating an object of the Dog class\ndog = Dog()\nprint(dog.speak())  # Output: Animal speaks\nprint(dog.bark())   # Output: Woof!\n```\n\n#### 2. Multiple Inheritance\n\nIn multiple inheritance, a subclass inherits from more than one superclass.\n\n**Example**:\n```python\nclass Flyable:\n    def fly(self):\n        return \"Flying\"\n\nclass Swimmable:\n    def swim(self):\n        return \"Swimming\"\n\nclass Duck(Flyable, Swimmable):\n    pass\n\n# Creating an object of the Duck class\nduck = Duck()\nprint(duck.fly())   # Output: Flying\nprint(duck.swim())  # Output: Swimming\n```\n\n#### 3. Multilevel Inheritance\n\nIn multilevel inheritance, a class inherits from another class, which in turn inherits from another class.\n\n**Example**:\n```python\nclass Animal:\n    def speak(self):\n        return \"Animal speaks\"\n\nclass Mammal(Animal):\n    def has_fur(self):\n        return \"Has fur\"\n\nclass Dog(Mammal):\n    def bark(self):\n        return \"Woof!\"\n\n# Creating an object of the Dog class\ndog = Dog()\nprint(dog.speak())  # Output: Animal speaks\nprint(dog.has_fur())# Output: Has fur\nprint(dog.bark())   # Output: Woof!\n```\n\n#### 4. Hierarchical Inheritance\n\nIn hierarchical inheritance, multiple subclasses inherit from a single superclass.\n\n**Example**:\n```python\nclass Animal:\n    def speak(self):\n        return \"Animal speaks\"\n\nclass Dog(Animal):\n    def bark(self):\n        return \"Woof!\"\n\nclass Cat(Animal):\n    def meow(self):\n        return \"Meow!\"\n\n# Creating objects of Dog and Cat classes\ndog = Dog()\ncat = Cat()\nprint(dog.speak())  # Output: Animal speaks\nprint(dog.bark())   # Output: Woof!\nprint(cat.speak())  # Output: Animal speaks\nprint(cat.meow())   # Output: Meow!\n```\n\n#### 5. Hybrid Inheritance\n\nHybrid inheritance is a combination of two or more types of inheritance. It involves a complex structure of classes that use both multiple and multilevel inheritance.\n\n**Example**:\n```python\nclass Animal:\n    def speak(self):\n        return \"Animal speaks\"\n\nclass Mammal(Animal):\n    def has_fur(self):\n        return \"Has fur\"\n\nclass Bird(Animal):\n    def has_feathers(self):\n        return \"Has feathers\"\n\nclass Bat(Mammal, Bird):\n    def can_fly(self):\n        return \"Can fly\"\n\n# Creating an object of the Bat class\nbat = Bat()\nprint(bat.speak())       # Output: Animal speaks\nprint(bat.has_fur())     # Output: Has fur\nprint(bat.has_feathers())# Output: Has feathers\nprint(bat.can_fly())     # Output: Can fly\n```\n\n### Summary\n\n- **Single Inheritance**: One subclass inherits from one superclass.\n- **Multiple Inheritance**: One subclass inherits from multiple superclasses.\n- **Multilevel Inheritance**: A chain of inheritance where a class inherits from another class, which in turn inherits from another class.\n- **Hierarchical Inheritance**: Multiple subclasses inherit from a single superclass.\n- **Hybrid Inheritance**: A combination of two or more types of inheritance to form a complex class hierarchy.\n\nEach type of inheritance serves different purposes and helps in creating a well-structured and reusable codebase.",
      "metadata": {
        "trusted": true
      },
      "outputs": [],
      "execution_count": null
    }
  ]
}
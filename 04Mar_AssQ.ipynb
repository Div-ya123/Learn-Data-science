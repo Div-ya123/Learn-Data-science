{
  "metadata": {
    "kernelspec": {
      "name": "python",
      "display_name": "Python (Pyodide)",
      "language": "python"
    },
    "language_info": {
      "codemirror_mode": {
        "name": "python",
        "version": 3
      },
      "file_extension": ".py",
      "mimetype": "text/x-python",
      "name": "python",
      "nbconvert_exporter": "python",
      "pygments_lexer": "ipython3",
      "version": "3.8"
    },
    "widgets": {
      "application/vnd.jupyter.widget-state+json": {
        "version_major": 2,
        "version_minor": 0,
        "state": {}
      }
    }
  },
  "nbformat_minor": 4,
  "nbformat": 4,
  "cells": [
    {
      "cell_type": "code",
      "source": "Q1. Load the \"titanic\" dataset using the load_dataset function of seaborn. Use Plotly express to plot a\nscatter plot for age and fare columns in the titanic dataset.\nQ2. Using the tips dataset in the Plotly library, plot a box plot using Plotly express.\nQ3. Using the tips dataset in the Plotly library, Plot a histogram for x= \"sex\" and y=\"total_bill\" column in\nthe tips dataset. Also, use the \"smoker\" column with the pattern_shape parameter and the \"day\"\ncolumn with the color parameter.\nQ4. Using the iris dataset in the Plotly library, Plot a scatter matrix plot, using the \"species\" column for\nthe color parameter.\nNote: Use \"sepal_length\", \"sepal_width\", \"petal_length\", \"petal_width\" columns only with the\ndimensions parameter.\nQ5. What is Distplot? Using Plotly express, plot a distplot.",
      "metadata": {
        "trusted": true
      },
      "outputs": [],
      "execution_count": null
    },
    {
      "cell_type": "code",
      "source": "Solution: \n\n\nQ1:\n```python\nimport seaborn as sns\nimport plotly.express as px\n\n# Load the \"titanic\" dataset\ntitanic_data = sns.load_dataset('titanic')\n\n# Plot scatter plot using Plotly express\nfig = px.scatter(titanic_data, x='age', y='fare', title='Scatter Plot: Age vs Fare')\nfig.show()\n```\n\nQ2:\n```python\nimport plotly.express as px\nfrom plotly.offline import plot\n\n# Load the tips dataset from Plotly\ntips_data = px.data.tips()\n\n# Plot box plot using Plotly express\nfig = px.box(tips_data, y='total_bill', title='Box Plot: Total Bill')\nplot(fig)\n```\n\nQ3:\n```python\nimport plotly.express as px\nfrom plotly.offline import plot\n\n# Load the tips dataset from Plotly\ntips_data = px.data.tips()\n\n# Plot histogram using Plotly express\nfig = px.histogram(tips_data, x='sex', y='total_bill', color='day', marginal='rug',\n                   pattern_shape='smoker', title='Histogram: Sex vs Total Bill')\nplot(fig)\n```\n\nQ4:\n```python\nimport plotly.express as px\nfrom plotly.offline import plot\n\n# Load the iris dataset from Plotly\niris_data = px.data.iris()\n\n# Plot scatter matrix using Plotly express\nfig = px.scatter_matrix(iris_data, dimensions=[\"sepal_length\", \"sepal_width\",\n                                                \"petal_length\", \"petal_width\"],\n                        color=\"species\", title='Scatter Matrix Plot: Iris Dataset')\nplot(fig)\n```\n\nQ5:\nDistplot is a function in Seaborn that combines a histogram with a kernel density estimate (KDE) plot. It is used to visualize the distribution of a single variable.\n\nUnfortunately, Plotly express does not have a direct equivalent to Seaborn's distplot. However, you can achieve a similar visualization using Plotly express by plotting a histogram and adding a KDE curve separately.\n\nHere's an example of how you can create a distplot-like visualization using Plotly express:\n```python\nimport plotly.express as px\nimport numpy as np\n\n# Generate random data for demonstration\nnp.random.seed(0)\ndata = np.random.normal(loc=0, scale=1, size=1000)\n\n# Plot histogram using Plotly express\nfig = px.histogram(x=data, nbins=30, title='Distplot: Histogram with KDE')\nfig.update_traces(histnorm='probability density', opacity=0.7)\nfig.update_layout(bargap=0.1)\n\n# Add KDE curve\nfig.add_trace(px.histogram(x=data, nbins=30).update_traces(histnorm='probability density',\n                                                           opacity=0.3).data[0])\n\nfig.show()\n```\n\nThis code generates random data, plots a histogram with a KDE curve using Plotly express, and simulates a distplot-like visualization.",
      "metadata": {
        "trusted": true
      },
      "outputs": [],
      "execution_count": null
    }
  ]
}